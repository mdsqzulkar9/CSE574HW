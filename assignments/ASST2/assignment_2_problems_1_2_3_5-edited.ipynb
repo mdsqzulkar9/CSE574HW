{
 "cells": [
  {
   "cell_type": "code",
   "execution_count": 1,
   "metadata": {
    "collapsed": false
   },
   "outputs": [],
   "source": [
    "import sys\n",
    "import numpy as np\n",
    "from scipy.optimize import minimize\n",
    "from scipy.io import loadmat\n",
    "from numpy.linalg import det, inv\n",
    "from math import sqrt, pi\n",
    "import scipy.io\n",
    "import matplotlib.pyplot as plt\n",
    "import pickle\n",
    "\n",
    "%matplotlib inline"
   ]
  },
  {
   "cell_type": "code",
   "execution_count": 2,
   "metadata": {
    "collapsed": true
   },
   "outputs": [],
   "source": [
    "def ldaLearn(X,y):\n",
    "    # Inputs\n",
    "    # X - a N x d matrix with each row corresponding to a training example\n",
    "    # y - a N x 1 column vector indicating the labels for each training example\n",
    "    #\n",
    "    # Outputs\n",
    "    # means - A d x k matrix containing learnt means for each of the k classes\n",
    "    # covmat - A single d x d learnt covariance matrix \n",
    "    \n",
    "    # IMPLEMENT THIS METHOD\n",
    "    \n",
    "    \n",
    "    \n",
    "    D = np.shape(X)[1]\n",
    "    classNumber = int(np.max(y))\n",
    "    means = np.empty((D, classNumber))\n",
    "    \n",
    "    \n",
    "    covmat_temp = np.zeros(D)\n",
    "    \n",
    "    for index in range (classNumber):\n",
    "               \n",
    "        trainingExample = X[np.where(index+1==y)[0],:]\n",
    "        \n",
    "        means[:, index] = np.mean(trainingExample, axis=0).transpose()\n",
    "        \n",
    "        covmat_temp = covmat_temp + (np.shape(trainingExample)[0]-1) * np.cov(np.transpose(trainingExample))\n",
    "\n",
    "\n",
    "    covmat = (1.0/(np.shape(X)[0] - classNumber)) * covmat_temp\n",
    "    #print (\"the covmat is \")\n",
    "    #print covmat\n",
    "    \n",
    "    return means,covmat"
   ]
  },
  {
   "cell_type": "code",
   "execution_count": 3,
   "metadata": {
    "collapsed": true
   },
   "outputs": [],
   "source": [
    "def qdaLearn(X,y):\n",
    "    # Inputs\n",
    "    # X - a N x d matrix with each row corresponding to a training example\n",
    "    # y - a N x 1 column vector indicating the labels for each training example\n",
    "    #\n",
    "    # Outputs\n",
    "    # means - A d x k matrix containing learnt means for each of the k classes\n",
    "    # covmats - A list of k d x d learnt covariance matrices for each of the k classes\n",
    "    \n",
    "    # IMPLEMENT THIS METHOD\n",
    "    \n",
    "    covmats = []\n",
    "    \n",
    "    D = np.shape(X)[1]\n",
    "    Classnumber = int(np.max(y))\n",
    "    \n",
    "    \n",
    "    means = np.empty((D, Classnumber));\n",
    "    \n",
    "    for index in range (Classnumber):\n",
    "        \n",
    "        trainingData = X[np.where(index+1==y)[0],:]\n",
    "        \n",
    "        means[:, index] = np.mean(trainingData, axis=0).transpose()\n",
    "        \n",
    "        oneCovMat = np.cov(np.transpose(trainingData))\n",
    "        \n",
    "        covmats.append(oneCovMat)\n",
    "    #print (\"the covmats are \")\n",
    "    # print covmats\n",
    "    \n",
    "    return means,covmats"
   ]
  },
  {
   "cell_type": "code",
   "execution_count": 4,
   "metadata": {
    "collapsed": true
   },
   "outputs": [],
   "source": [
    "def ldaTest(means,covmat,Xtest,ytest):\n",
    "    # Inputs\n",
    "    # means, covmat - parameters of the LDA model\n",
    "    # Xtest - a N x d matrix with each row corresponding to a test example\n",
    "    # ytest - a N x 1 column vector indicating the labels for each test example\n",
    "    # Outputs\n",
    "    # acc - A scalar accuracy value\n",
    "    # ypred - N x 1 column vector indicating the predicted labels\n",
    "\n",
    "    # IMPLEMENT THIS METHOD\n",
    "    \n",
    "    PDF= np.zeros((Xtest.shape[0],means.shape[1]))\n",
    "    \n",
    "    covmatdeterminant = np.linalg.det(covmat)\n",
    "    \n",
    "    covmatinverse = np.linalg.inv(covmat)\n",
    "    \n",
    "    \n",
    "    #print means.shape[1]\n",
    "    for index in range(means.shape[1]):\n",
    "        \n",
    "        transpose = (Xtest - means[:,index]).T\n",
    "        XMeans = (Xtest - means[:,index])\n",
    "        \n",
    "        numerator = np.exp(-0.5 * np.sum(XMeans*np.dot(covmatinverse, transpose).T,1))\n",
    "        denominator = (np.sqrt(covmatdeterminant)*(np.power(np.pi*2,2/np.shape(Xtest)[1])))\n",
    "        \n",
    "        PDF[:,index] =  numerator / denominator \n",
    "    \n",
    "    accMatrix = (np.argmax(PDF,1)+1) == ytest.reshape(ytest.size)\n",
    "    acc = 100*np.mean(accMatrix)\n",
    "    #print (np.argmax(PDF,1)+1) == ytest.reshape(ytest.size)\n",
    "    ypred = np.argmax(PDF,1)+1\n",
    "    \n",
    "    return acc,ypred"
   ]
  },
  {
   "cell_type": "code",
   "execution_count": 5,
   "metadata": {
    "collapsed": false
   },
   "outputs": [],
   "source": [
    "def qdaTest(means,covmats,Xtest,ytest):\n",
    "    # Inputs\n",
    "    # means, covmats - parameters of the QDA model\n",
    "    # Xtest - a N x d matrix with each row corresponding to a test example\n",
    "    # ytest - a N x 1 column vector indicating the labels for each test example\n",
    "    # Outputs\n",
    "    # acc - A scalar accuracy value\n",
    "    # ypred - N x 1 column vector indicating the predicted labels\n",
    "\n",
    "    # IMPLEMENT THIS METHOD\n",
    "    \n",
    "    \n",
    "    PDF= np.zeros((Xtest.shape[0],means.shape[1]))\n",
    "    \n",
    "    for index in range(means.shape[1]):\n",
    "        \n",
    "        transpose = (Xtest - means[:,index]).T\n",
    "        XMeans = (Xtest - means[:,index])\n",
    "        covmatdeterminant = np.linalg.det(covmats[index])\n",
    "        covmatinverse = np.linalg.inv(covmats[index])\n",
    "        \n",
    "        numerator = np.exp(-0.5 * np.sum(XMeans*np.dot(covmatinverse, transpose).T,1))\n",
    "        denominator = (np.sqrt(covmatdeterminant)*(np.power(np.pi*2,2/np.shape(Xtest)[1])))\n",
    "        \n",
    "        PDF[:,index] = numerator / denominator\n",
    "       \n",
    "    accMatrix = (np.argmax(PDF,1)+1) == ytest.reshape(ytest.size)\n",
    "    acc = 100*np.mean(accMatrix)     \n",
    "    #print ((np.argmax(pdf,1)+1) == ytest.reshape(ytest.size))\n",
    "    #print ytest.reshape(ytest.size)\n",
    "    #print np.argmax(pdf,1)\n",
    "    ypred = np.argmax(PDF,1)+1;\n",
    "   \n",
    "    \n",
    "    \n",
    "    \n",
    "    \n",
    "    \n",
    "    return acc,ypred"
   ]
  },
  {
   "cell_type": "code",
   "execution_count": 6,
   "metadata": {
    "collapsed": true
   },
   "outputs": [],
   "source": [
    "#Problem 2\n",
    "def learnOLERegression(X,y):\n",
    "    # Inputs:\n",
    "    # X = N x d\n",
    "    # y = N x 1\n",
    "    # Output:\n",
    "    # w = d x 1\n",
    "\n",
    "    transpose_X = np.transpose(X)\n",
    "    a = np.dot(transpose_X,X)\n",
    "    b = np.dot(transpose_X,y)\n",
    "    inverse = np.linalg.inv(a)\n",
    "\n",
    "    w = np.dot(inverse,b)\n",
    "    print(w.shape)\n",
    "\n",
    "    return w"
   ]
  },
  {
   "cell_type": "code",
   "execution_count": 7,
   "metadata": {
    "collapsed": true
   },
   "outputs": [],
   "source": [
    "def testOLERegression(w,Xtest,ytest):\n",
    "    # Inputs:\n",
    "    # w = d x 1\n",
    "    # Xtest = N x d\n",
    "    # ytest = X x 1\n",
    "    # Output:\n",
    "    # rmse\n",
    "    \n",
    "    one_over_N = 1.0/Xtest.shape[0] #1/N\n",
    "    transpose_w = np.transpose(w)\n",
    "    transpose_X = np.transpose(Xtest)\n",
    "    transpose_y = np.transpose(ytest)\n",
    "\n",
    "    a = np.dot(transpose_w,transpose_X)\n",
    "    b = np.subtract(transpose_y, a)\n",
    "    c = np.power(b,2)\n",
    "    d = np.dot(c, one_over_N)\n",
    "    sum_vector = np.sum(d)\n",
    "    rmse = np.sqrt(sum_vector)\n",
    "   \n",
    "    \n",
    "    return rmse"
   ]
  },
  {
   "cell_type": "code",
   "execution_count": 8,
   "metadata": {
    "collapsed": true
   },
   "outputs": [],
   "source": [
    "def learnRidgeRegression(X,y,lambd):\n",
    "    # Inputs:\n",
    "    # X = N x d                                                               \n",
    "    # y = N x 1 \n",
    "    # lambd = ridge parameter (scalar)\n",
    "    # Output:                                                                  \n",
    "    # w = d x 1   \n",
    "    \n",
    "    # IMPLEMENT THIS METHOD\n",
    "    \n",
    "    # added : by Zulkar\n",
    "    d = X.shape[1]\n",
    "    X_transpose = np.transpose(X)\n",
    "    X_squared = np.dot(X_transpose,X)\n",
    "    lambda_Id = lambd * np.identity(d)\n",
    "    \n",
    "    part_1 = lambda_Id + X_squared\n",
    "    inv_part_1 = np.linalg.inv(part_1)\n",
    "    part_2 = np.dot(inv_part_1,X_transpose)\n",
    "    w = np.dot(part_2,y)\n",
    "    \n",
    "    \n",
    "    \n",
    "    \n",
    "                                                       \n",
    "    return w"
   ]
  },
  {
   "cell_type": "code",
   "execution_count": 9,
   "metadata": {
    "collapsed": true
   },
   "outputs": [],
   "source": [
    "def regressionObjVal(w, X, y, lambd):\n",
    "\n",
    "    # compute squared error (scalar) and gradient of squared error with respect\n",
    "    # to w (vector) for the given data X and y and the regularization parameter\n",
    "    # lambda                                                                  \n",
    "\n",
    "    # IMPLEMENT THIS METHOD    \n",
    "    \n",
    "    \n",
    "    return error, error_grad"
   ]
  },
  {
   "cell_type": "code",
   "execution_count": 10,
   "metadata": {
    "collapsed": false
   },
   "outputs": [],
   "source": [
    "#Problem 5\n",
    "def mapNonLinear(x,p):\n",
    "    # Inputs:\n",
    "    # x - a single column vector (N x 1)\n",
    "    # p - integer (>= 0)\n",
    "    # Outputs:\n",
    "    # Xd - (N x (p+1))\n",
    "    \n",
    "    \n",
    "    N = x.shape[0]\n",
    "    Xd = np.zeros((N,p+1))\n",
    "    '''\n",
    "    for i in (0, N-1):\n",
    "        for k in (0,p):\n",
    "            Xd[i][k] = x[k] ** k\n",
    "            # print(Xd[i][k])\n",
    "    '''\n",
    "    \n",
    "    for index in range(0, p+1):\n",
    "        Xd[:, index] = x ** index   \n",
    "    # print(Xd.shape)\n",
    "    \n",
    "    return Xd"
   ]
  },
  {
   "cell_type": "code",
   "execution_count": 11,
   "metadata": {
    "collapsed": false,
    "scrolled": false
   },
   "outputs": [
    {
     "name": "stdout",
     "output_type": "stream",
     "text": [
      "LDA Accuracy = (97.0, array([2, 2, 3, 4, 3, 2, 5, 4, 4, 4, 3, 5, 2, 2, 4, 1, 1, 1, 5, 3, 5, 1, 4,\n",
      "       3, 5, 1, 1, 2, 5, 2, 5, 5, 3, 5, 3, 4, 2, 3, 1, 2, 4, 5, 1, 1, 4, 4,\n",
      "       5, 3, 5, 5, 5, 4, 1, 5, 4, 4, 1, 3, 3, 1, 1, 4, 5, 3, 5, 4, 2, 3, 3,\n",
      "       3, 5, 2, 2, 1, 4, 4, 4, 1, 1, 4, 1, 3, 4, 5, 3, 4, 3, 3, 3, 2, 5, 1,\n",
      "       5, 2, 5, 4, 4, 5, 5, 1], dtype=int64))\n",
      "QDA Accuracy = (96.0, array([2, 2, 3, 4, 3, 2, 5, 4, 4, 4, 3, 5, 2, 2, 4, 1, 1, 1, 5, 3, 5, 1, 4,\n",
      "       3, 5, 1, 1, 2, 5, 2, 5, 5, 3, 5, 3, 4, 2, 3, 1, 2, 4, 5, 2, 1, 4, 4,\n",
      "       5, 3, 5, 5, 5, 4, 1, 5, 4, 4, 1, 3, 3, 1, 1, 4, 5, 3, 5, 4, 2, 3, 3,\n",
      "       3, 5, 2, 2, 1, 4, 4, 4, 1, 1, 4, 1, 3, 4, 5, 3, 4, 3, 3, 3, 2, 5, 1,\n",
      "       5, 2, 5, 4, 4, 5, 5, 1], dtype=int64))\n"
     ]
    },
    {
     "data": {
      "image/png": "[encoded data removed]",
      "text/plain": [
       "<matplotlib.figure.Figure at 0x76654a8>"
      ]
     },
     "metadata": {},
     "output_type": "display_data"
    },
    {
     "data": {
      "image/png": "[encoded data removed]",
      "text/plain": [
       "<matplotlib.figure.Figure at 0x7aa1eb8>"
      ]
     },
     "metadata": {},
     "output_type": "display_data"
    },
    {
     "name": "stdout",
     "output_type": "stream",
     "text": [
      "(64L, 1L)\n",
      "(65L, 1L)\n",
      "RMSE without intercept 326.76499438\n",
      "RMSE with intercept 60.892037097\n"
     ]
    },
    {
     "data": {
      "image/png": "[encoded data removed]",
      "text/plain": [
       "<matplotlib.figure.Figure at 0x7c2c0b8>"
      ]
     },
     "metadata": {},
     "output_type": "display_data"
    },
    {
     "data": {
      "image/png": "[encoded data removed]",
      "text/plain": [
       "<matplotlib.figure.Figure at 0x809df60>"
      ]
     },
     "metadata": {},
     "output_type": "display_data"
    }
   ],
   "source": [
    "# Main script\n",
    "\n",
    "# Problem 1\n",
    "# load the sample data                                                                 \n",
    "if sys.version_info.major == 2:   # if python version == 2\n",
    "    X,y,Xtest,ytest = pickle.load(open('sample.pickle','rb'))\n",
    "else:\n",
    "    X,y,Xtest,ytest = pickle.load(open('sample.pickle','rb'),encoding = 'latin1')\n",
    "\n",
    "# added: by Zulkar\n",
    "# print X and y and their shapes:\n",
    "'''\n",
    "print (\"X:\")\n",
    "print (X.shape)\n",
    "print (X)\n",
    "print (\"y:\")\n",
    "print (y)\n",
    "print (y.shape)\n",
    "'''\n",
    "# commented by : Zulkar\n",
    "####################################################\n",
    "# To Do: uncomment when completed !\n",
    "\n",
    "# LDA\n",
    "means,covmat = ldaLearn(X,y)\n",
    "ldaacc = ldaTest(means,covmat,Xtest,ytest)\n",
    "print('LDA Accuracy = '+str(ldaacc))\n",
    "# QDA\n",
    "means,covmats = qdaLearn(X,y)\n",
    "qdaacc = qdaTest(means,covmats,Xtest,ytest)\n",
    "print('QDA Accuracy = '+str(qdaacc))\n",
    "\n",
    "# plotting boundaries\n",
    "x1 = np.linspace(-5,20,100)\n",
    "x2 = np.linspace(-5,20,100)\n",
    "xx1,xx2 = np.meshgrid(x1,x2)\n",
    "xx = np.zeros((x1.shape[0]*x2.shape[0],2))\n",
    "xx[:,0] = xx1.ravel()\n",
    "xx[:,1] = xx2.ravel()\n",
    "\n",
    "zacc,zldares = ldaTest(means,covmat,xx,np.zeros((xx.shape[0],1)))\n",
    "plt.contourf(x1,x2,zldares.reshape((x1.shape[0],x2.shape[0])))\n",
    "plt.scatter(Xtest[:,0],Xtest[:,1],c=ytest)\n",
    "\n",
    "\n",
    "plt.show()\n",
    "\n",
    "zacc,zqdares = qdaTest(means,covmats,xx,np.zeros((xx.shape[0],1)))\n",
    "plt.contourf(x1,x2,zqdares.reshape((x1.shape[0],x2.shape[0])))\n",
    "plt.scatter(Xtest[:,0],Xtest[:,1],c=ytest)\n",
    "\n",
    "\n",
    "plt.show()\n",
    "#################################################################\n",
    "\n",
    "# Problem 2\n",
    "\n",
    "if sys.version_info.major == 2:\n",
    "    X,y,Xtest,ytest = pickle.load(open('diabetes.pickle','rb'))\n",
    "else:\n",
    "    X,y,Xtest,ytest = pickle.load(open('diabetes.pickle','rb'),encoding = 'latin1')\n",
    "\n",
    "# add intercept\n",
    "X_i = np.concatenate((np.ones((X.shape[0],1)), X), axis=1)\n",
    "Xtest_i = np.concatenate((np.ones((Xtest.shape[0],1)), Xtest), axis=1)\n",
    "\n",
    "w = learnOLERegression(X,y)\n",
    "mle = testOLERegression(w,Xtest,ytest)\n",
    "\n",
    "w_i = learnOLERegression(X_i,y)\n",
    "mle_i = testOLERegression(w_i,Xtest_i,ytest)\n",
    "\n",
    "print('RMSE without intercept '+str(mle))\n",
    "print('RMSE with intercept '+str(mle_i))\n",
    "\n",
    "# Problem 3\n",
    "k = 101\n",
    "lambdas = np.linspace(0, 1, num=k)\n",
    "\n",
    "i = 0\n",
    "rmses3 = np.zeros((k,1))\n",
    "rmses3_train = np.zeros((k,1))\n",
    "for lambd in lambdas:\n",
    "    w_l = learnRidgeRegression(X_i,y,lambd)\n",
    "    rmses3[i] = testOLERegression(w_l,Xtest_i,ytest)\n",
    "    rmses3_train[i]= testOLERegression(w_l,X_i,y)\n",
    "    i = i + 1\n",
    "plt.plot(lambdas,rmses3)\n",
    "plt.plot(lambdas,rmses3_train)\n",
    "plt.legend(('Test Data','Train Data'))\n",
    "plt.show()\n",
    "\n",
    "\n",
    "# # Problem 4\n",
    "k = 101\n",
    "lambdas = np.linspace(0, 1, num=k)\n",
    "i = 0\n",
    "rmses4 = np.zeros((k,1))\n",
    "#opts = {'maxiter' : 100}    # Preferred value.\n",
    "#w_init = np.ones((X_i.shape[1],1))\n",
    "#for lambd in lambdas:\n",
    "#    args = (X_i, y, lambd)\n",
    "#    w_l = minimize(regressionObjVal, w_init, jac=True, args=args,method='BFGS', options=opts)\n",
    "#    w_l = np.transpose(np.array(w_l.x))\n",
    "#    w_l = np.reshape(w_l,[len(w_l),1])\n",
    "#    rmses4[i] = testOLERegression(w_l,Xtest_i,ytest)\n",
    "#    i = i + 1\n",
    "#plt.plot(lambdas,rmses4)\n",
    "\n",
    "\n",
    "# Problem 5\n",
    "\n",
    "pmax = 7\n",
    "lambda_opt = lambdas[np.argmin(rmses4)]\n",
    "rmses5 = np.zeros((pmax,2))\n",
    "for p in range(pmax):\n",
    "    Xd = mapNonLinear(X[:,2],p)\n",
    "    Xdtest = mapNonLinear(Xtest[:,2],p)\n",
    "    w_d1 = learnRidgeRegression(Xd,y,0)\n",
    "    rmses5[p,0] = testOLERegression(w_d1,Xdtest,ytest)\n",
    "    w_d2 = learnRidgeRegression(Xd,y,lambda_opt)\n",
    "    rmses5[p,1] = testOLERegression(w_d2,Xdtest,ytest)\n",
    "plt.plot(range(pmax),rmses5)\n",
    "plt.legend(('No Regularization','Regularization'))\n",
    "plt.show()\n",
    "\n"
   ]
  },
  {
   "cell_type": "code",
   "execution_count": null,
   "metadata": {
    "collapsed": false
   },
   "outputs": [],
   "source": []
  },
  {
   "cell_type": "code",
   "execution_count": null,
   "metadata": {
    "collapsed": true
   },
   "outputs": [],
   "source": []
  },
  {
   "cell_type": "code",
   "execution_count": null,
   "metadata": {
    "collapsed": true
   },
   "outputs": [],
   "source": []
  },
  {
   "cell_type": "code",
   "execution_count": null,
   "metadata": {
    "collapsed": true
   },
   "outputs": [],
   "source": []
  },
  {
   "cell_type": "code",
   "execution_count": null,
   "metadata": {
    "collapsed": true
   },
   "outputs": [],
   "source": []
  },
  {
   "cell_type": "code",
   "execution_count": null,
   "metadata": {
    "collapsed": true
   },
   "outputs": [],
   "source": []
  },
  {
   "cell_type": "code",
   "execution_count": null,
   "metadata": {
    "collapsed": true
   },
   "outputs": [],
   "source": []
  }
 ],
 "metadata": {
  "kernelspec": {
   "display_name": "Python 2",
   "language": "python",
   "name": "python2"
  },
  "language_info": {
   "codemirror_mode": {
    "name": "ipython",
    "version": 2
   },
   "file_extension": ".py",
   "mimetype": "text/x-python",
   "name": "python",
   "nbconvert_exporter": "python",
   "pygments_lexer": "ipython2",
   "version": "2.7.11"
  }
 },
 "nbformat": 4,
 "nbformat_minor": 0
}
