{
 "cells": [
  {
   "cell_type": "code",
   "execution_count": 11,
   "metadata": {
    "collapsed": true
   },
   "outputs": [],
   "source": [
    "import sys\n",
    "import numpy as np\n",
    "from scipy.optimize import minimize\n",
    "from scipy.io import loadmat\n",
    "from numpy.linalg import det, inv\n",
    "from math import sqrt, pi\n",
    "import scipy.io\n",
    "import matplotlib.pyplot as plt\n",
    "import pickle\n",
    "\n",
    "%matplotlib inline"
   ]
  },
  {
   "cell_type": "code",
   "execution_count": 12,
   "metadata": {
    "collapsed": true
   },
   "outputs": [],
   "source": [
    "def ldaLearn(X,y):\n",
    "    # Inputs\n",
    "    # X - a N x d matrix with each row corresponding to a training example\n",
    "    # y - a N x 1 column vector indicating the labels for each training example\n",
    "    #\n",
    "    # Outputs\n",
    "    # means - A d x k matrix containing learnt means for each of the k classes\n",
    "    # covmat - A single d x d learnt covariance matrix \n",
    "    \n",
    "    # IMPLEMENT THIS METHOD\n",
    "    \n",
    "    numberOfClasses = (np.unique(y)).shape[0]\n",
    "    meansList = []\n",
    "    \n",
    "    for index in range (numberOfClasses):\n",
    "        class_members = np.where(index+1==y)\n",
    "        class_members = class_members[0]\n",
    "        \n",
    "        trainingExample = X[class_members,:]\n",
    "        \n",
    "        classMean = np.mean(trainingExample, axis=0)\n",
    "        meansList.append(classMean)\n",
    "        \n",
    "    means = np.asarray(meansList)\n",
    "    means = means.T\n",
    "\n",
    "    covmat = np.cov(X.T)\n",
    "    \n",
    "    return means,covmat"
   ]
  },
  {
   "cell_type": "code",
   "execution_count": 13,
   "metadata": {
    "collapsed": true
   },
   "outputs": [],
   "source": [
    "def qdaLearn(X,y):\n",
    "    # Inputs\n",
    "    # X - a N x d matrix with each row corresponding to a training example\n",
    "    # y - a N x 1 column vector indicating the labels for each training example\n",
    "    #\n",
    "    # Outputs\n",
    "    # means - A d x k matrix containing learnt means for each of the k classes\n",
    "    # covmats - A list of k d x d learnt covariance matrices for each of the k classes\n",
    "    \n",
    "    # IMPLEMENT THIS METHOD\n",
    "    \n",
    "    covmats = []\n",
    "    meansList = []\n",
    "    \n",
    "    numberOfClasses = (np.unique(y)).shape[0]\n",
    "    \n",
    "    for index in range (numberOfClasses):\n",
    "        \n",
    "        classMembers = np.where(index+1==y)\n",
    "        classMembers = classMembers[0]\n",
    "        trainingData = X[classMembers,:]\n",
    "        \n",
    "        row_mean = np.mean(trainingData, axis=0)\n",
    "        meansList.append(row_mean)\n",
    "        oneCovMat = np.cov(trainingData.T)\n",
    "        covmats.append(oneCovMat)\n",
    "    means = np.asarray(meansList)\n",
    "    means = means.T\n",
    "    \n",
    "    return means,covmats"
   ]
  },
  {
   "cell_type": "code",
   "execution_count": 14,
   "metadata": {
    "collapsed": true
   },
   "outputs": [],
   "source": [
    "def ldaTest(means,covmat,Xtest,ytest):\n",
    "    # Inputs\n",
    "    # means, covmat - parameters of the LDA model\n",
    "    # Xtest - a N x d matrix with each row corresponding to a test example\n",
    "    # ytest - a N x 1 column vector indicating the labels for each test example\n",
    "    # Outputs\n",
    "    # acc - A scalar accuracy value\n",
    "    # ypred - N x 1 column vector indicating the predicted labels\n",
    "    \n",
    "    ll = []\n",
    "    N = ytest.shape[0]\n",
    "    d = Xtest.shape[1]\n",
    "    number_of_classes = means.shape[1]\n",
    "\n",
    "    covmatdeterminant = np.linalg.det(covmat)\n",
    "    covmatinverse = np.linalg.inv(covmat)\n",
    "    \n",
    "    for index in range(number_of_classes):\n",
    "        \n",
    "        XMeans = (Xtest - means[:,index])       #Nxd\n",
    "        trans_covinv = np.dot(XMeans,covmatinverse)   # Nxd\n",
    "        trans_covinv_xm_p = trans_covinv * XMeans   #Nxd\n",
    "        trans_covinv_xm_s = np.sum(trans_covinv_xm_p, axis=1)  #Nx1\n",
    "        trans_covinv_xm = -0.5 * trans_covinv_xm_s \n",
    "        numerator = np.exp(trans_covinv_xm)\n",
    "        denominator = np.power((np.pi*2),d/2)*np.sqrt(covmatdeterminant)\n",
    "        \n",
    "        likelihood =  numerator / denominator \n",
    "        ll.append(likelihood)\n",
    "        \n",
    "    ll_mat = np.asarray(ll)\n",
    "    ll_mat = ll_mat.T\n",
    "    \n",
    "    ypred = np.argmax(ll_mat, axis=1)+1\n",
    "    result = np.zeros(N)\n",
    "    for i in range(N):\n",
    "        if(ypred[i] == ytest[i]):\n",
    "            result[i] = 1\n",
    "    \n",
    "    acc = np.mean(result)*100\n",
    "    \n",
    "    return acc,ypred"
   ]
  },
  {
   "cell_type": "code",
   "execution_count": 15,
   "metadata": {
    "collapsed": true
   },
   "outputs": [],
   "source": [
    "def qdaTest(means,covmats,Xtest,ytest):\n",
    "    # Inputs\n",
    "    # means, covmats - parameters of the QDA model\n",
    "    # Xtest - a N x d matrix with each row corresponding to a test example\n",
    "    # ytest - a N x 1 column vector indicating the labels for each test example\n",
    "    # Outputs\n",
    "    # acc - A scalar accuracy value\n",
    "    # ypred - N x 1 column vector indicating the predicted labels\n",
    "\n",
    "    # IMPLEMENT THIS METHOD\n",
    "    N = ytest.shape[0]\n",
    "    d = Xtest.shape[1]\n",
    "    \n",
    "    numberOfClasses = means.shape[1]\n",
    "    ll = []\n",
    "    \n",
    "    for index in range(numberOfClasses):\n",
    "        \n",
    "        XMeans = (Xtest - means[:,index])   #Nxd\n",
    "\n",
    "        covmatdeterminant = np.linalg.det(covmats[index])\n",
    "        covmatinverse = np.linalg.inv(covmats[index])\n",
    "                \n",
    "        trans_covinv = np.dot(XMeans,covmatinverse)  #Nxd\n",
    "        trans_covinv_xm_p = trans_covinv * XMeans     #Nxd\n",
    "        trans_covinv_xm_s = np.sum(trans_covinv_xm_p, axis=1)    #Nxd\n",
    "        trans_covinv_xm = -0.5 * trans_covinv_xm_s     #Nx1\n",
    "        numerator = np.exp(trans_covinv_xm)\n",
    "        denominator = np.power((np.pi*2),d/2)*np.sqrt(covmatdeterminant)\n",
    "        likelihood = numerator / denominator\n",
    "        ll.append(likelihood)\n",
    "    \n",
    "    ll_mat = np.asarray(ll)\n",
    "    ll_mat = ll_mat.T\n",
    "\n",
    "    ypred = np.argmax(ll_mat, axis=1)+1\n",
    "    result = np.zeros(N)\n",
    "    for i in range(N):\n",
    "        if(ypred[i] == ytest[i]):\n",
    "            result[i] = 1\n",
    "            \n",
    "    acc = np.mean(result)*100\n",
    "    \n",
    "    \n",
    "    return acc,ypred"
   ]
  },
  {
   "cell_type": "code",
   "execution_count": 16,
   "metadata": {
    "collapsed": true
   },
   "outputs": [],
   "source": [
    "#Problem 2\n",
    "def learnOLERegression(X,y):\n",
    "    # Inputs:\n",
    "    # X = N x d\n",
    "    # y = N x 1\n",
    "    # Output:\n",
    "    # w = d x 1\n",
    "\n",
    "    transpose_X = np.transpose(X)\n",
    "    a = np.dot(transpose_X,X)\n",
    "    b = np.dot(transpose_X,y)\n",
    "    inverse = np.linalg.inv(a)\n",
    "\n",
    "    w = np.dot(inverse,b)\n",
    "    print(w.shape)\n",
    "\n",
    "    return w"
   ]
  },
  {
   "cell_type": "code",
   "execution_count": 17,
   "metadata": {
    "collapsed": true
   },
   "outputs": [],
   "source": [
    "def testOLERegression(w,Xtest,ytest):\n",
    "    # Inputs:\n",
    "    # w = d x 1\n",
    "    # Xtest = N x d\n",
    "    # ytest = X x 1\n",
    "    # Output:\n",
    "    # rmse\n",
    "    \n",
    "    one_over_N = 1.0/Xtest.shape[0] #1/N\n",
    "    transpose_w = np.transpose(w)\n",
    "    transpose_X = np.transpose(Xtest)\n",
    "    transpose_y = np.transpose(ytest)\n",
    "\n",
    "    a = np.dot(transpose_w,transpose_X)\n",
    "    b = np.subtract(transpose_y, a)\n",
    "    c = np.power(b,2)\n",
    "    d = np.dot(c, one_over_N)\n",
    "    sum_vector = np.sum(d)\n",
    "    rmse = np.sqrt(sum_vector)\n",
    "   \n",
    "    \n",
    "    return rmse"
   ]
  },
  {
   "cell_type": "code",
   "execution_count": 18,
   "metadata": {
    "collapsed": true
   },
   "outputs": [],
   "source": [
    "def learnRidgeRegression(X,y,lambd):\n",
    "    # Inputs:\n",
    "    # X = N x d                                                               \n",
    "    # y = N x 1 \n",
    "    # lambd = ridge parameter (scalar)\n",
    "    # Output:                                                                  \n",
    "    # w = d x 1   \n",
    "    \n",
    "    # IMPLEMENT THIS METHOD\n",
    "    \n",
    "    # added : by Zulkar\n",
    "    d = X.shape[1]\n",
    "    X_transpose = np.transpose(X)\n",
    "    X_squared = np.dot(X_transpose,X)\n",
    "    lambda_Id = lambd * np.identity(d)\n",
    "    \n",
    "    part_1 = lambda_Id + X_squared\n",
    "    inv_part_1 = np.linalg.inv(part_1)\n",
    "    part_2 = np.dot(inv_part_1,X_transpose)\n",
    "    w = np.dot(part_2,y)\n",
    "    \n",
    "    \n",
    "    \n",
    "    \n",
    "                                                       \n",
    "    return w"
   ]
  },
  {
   "cell_type": "code",
   "execution_count": 19,
   "metadata": {
    "collapsed": true
   },
   "outputs": [],
   "source": [
    "def regressionObjVal(w, X, y, lambd):\n",
    "    \n",
    "    # error J(w) = 0.5 * sum(y - wt.x)^2 + 0.5*lambda*(wt.w)\n",
    "    w_new = w.reshape((w.shape[0],1))\n",
    "    wt_x = np.dot(X,w_new)\n",
    "    y_minus_wtx = y - wt_x;\n",
    "    squared_error = np.sum(np.square( y_minus_wtx ))\n",
    "    error = 0.5 * squared_error + (0.5 * lambd * np.dot(w.T,w))\n",
    "    \n",
    "    \n",
    "    #error_grad = d/dw {J(w)} : (Xt.X).w - Xt.y + lambda * w  : dimension : 65x1 \n",
    "    XtX = np.dot(X.T,X)\n",
    "    XtX_w = np.dot(XtX,w_new)\n",
    "    Xty = np.dot(X.T,y)\n",
    "    lambda_w = lambd * w_new\n",
    "    \n",
    "    error_grad = (XtX_w - Xty + lambda_w)\n",
    "    error_grad = error_grad.flatten()\n",
    "    \n",
    "    return error, error_grad"
   ]
  },
  {
   "cell_type": "code",
   "execution_count": 20,
   "metadata": {
    "collapsed": true
   },
   "outputs": [],
   "source": [
    "#Problem 5\n",
    "def mapNonLinear(x,p):\n",
    "    # Inputs:\n",
    "    # x - a single column vector (N x 1)\n",
    "    # p - integer (>= 0)\n",
    "    # Outputs:\n",
    "    # Xd - (N x (p+1))\n",
    "    \n",
    "    \n",
    "    N = x.shape[0]\n",
    "    Xd = np.zeros((N,p+1))\n",
    "    '''\n",
    "    for i in (0, N-1):\n",
    "        for k in (0,p):\n",
    "            Xd[i][k] = x[k] ** k\n",
    "            # print(Xd[i][k])\n",
    "    '''\n",
    "    \n",
    "    for index in range(0, p+1):\n",
    "        Xd[:, index] = x ** index   \n",
    "    # print(Xd.shape)\n",
    "    \n",
    "    return Xd"
   ]
  },
  {
   "cell_type": "code",
   "execution_count": 21,
   "metadata": {
    "collapsed": false
   },
   "outputs": [
    {
     "name": "stdout",
     "output_type": "stream",
     "text": [
      "LDA Accuracy = (97.0, array([2, 2, 3, 4, 3, 2, 5, 4, 4, 4, 3, 5, 2, 2, 4, 1, 1, 1, 5, 3, 5, 1, 4,\n",
      "       3, 5, 1, 1, 2, 5, 2, 5, 5, 3, 5, 3, 4, 2, 3, 1, 2, 4, 5, 1, 1, 4, 4,\n",
      "       5, 3, 5, 5, 5, 4, 1, 5, 4, 4, 1, 3, 3, 1, 1, 4, 5, 3, 5, 4, 2, 3, 3,\n",
      "       3, 5, 2, 2, 1, 4, 4, 4, 1, 1, 4, 1, 3, 4, 5, 3, 4, 3, 3, 3, 2, 5, 1,\n",
      "       5, 2, 5, 4, 4, 5, 5, 1]))\n",
      "QDA Accuracy = (96.0, array([2, 2, 3, 4, 3, 2, 5, 4, 4, 4, 3, 5, 2, 2, 4, 1, 1, 1, 5, 3, 5, 1, 4,\n",
      "       3, 5, 1, 1, 2, 5, 2, 5, 5, 3, 5, 3, 4, 2, 3, 1, 2, 4, 5, 2, 1, 4, 4,\n",
      "       5, 3, 5, 5, 5, 4, 1, 5, 4, 4, 1, 3, 3, 1, 1, 4, 5, 3, 5, 4, 2, 3, 3,\n",
      "       3, 5, 2, 2, 1, 4, 4, 4, 1, 1, 4, 1, 3, 4, 5, 3, 4, 3, 3, 3, 2, 5, 1,\n",
      "       5, 2, 5, 4, 4, 5, 5, 1]))\n"
     ]
    },
    {
     "data": {
      "image/png": "[encoded data removed]",
      "text/plain": [
       "<matplotlib.figure.Figure at 0x10dd26320>"
      ]
     },
     "metadata": {},
     "output_type": "display_data"
    },
    {
     "data": {
      "image/png": "[encoded data removed]",
      "text/plain": [
       "<matplotlib.figure.Figure at 0x110576c50>"
      ]
     },
     "metadata": {},
     "output_type": "display_data"
    },
    {
     "name": "stdout",
     "output_type": "stream",
     "text": [
      "(64, 1)\n",
      "(65, 1)\n",
      "RMSE without intercept 326.764994391\n",
      "RMSE with intercept 60.892037097\n"
     ]
    },
    {
     "data": {
      "text/plain": [
       "<matplotlib.legend.Legend at 0x110d1e208>"
      ]
     },
     "execution_count": 21,
     "metadata": {},
     "output_type": "execute_result"
    },
    {
     "data": {
      "image/png": "[encoded data removed]",
      "text/plain": [
       "<matplotlib.figure.Figure at 0x110a5ac18>"
      ]
     },
     "metadata": {},
     "output_type": "display_data"
    }
   ],
   "source": [
    "# Main script\n",
    "\n",
    "# Problem 1\n",
    "# load the sample data                                                                 \n",
    "if sys.version_info.major == 2:\n",
    "    X,y,Xtest,ytest = pickle.load(open('sample.pickle','rb'))\n",
    "else:\n",
    "    X,y,Xtest,ytest = pickle.load(open('sample.pickle','rb'),encoding = 'latin1')\n",
    "\n",
    "# LDA\n",
    "means,covmat = ldaLearn(X,y)\n",
    "ldaacc = ldaTest(means,covmat,Xtest,ytest)\n",
    "print('LDA Accuracy = '+str(ldaacc))\n",
    "# QDA\n",
    "means,covmats = qdaLearn(X,y)\n",
    "qdaacc = qdaTest(means,covmats,Xtest,ytest)\n",
    "print('QDA Accuracy = '+str(qdaacc))\n",
    "\n",
    "# plotting boundaries\n",
    "x1 = np.linspace(-5,20,100)\n",
    "x2 = np.linspace(-5,20,100)\n",
    "xx1,xx2 = np.meshgrid(x1,x2)\n",
    "xx = np.zeros((x1.shape[0]*x2.shape[0],2))\n",
    "xx[:,0] = xx1.ravel()\n",
    "xx[:,1] = xx2.ravel()\n",
    "\n",
    "zacc,zldares = ldaTest(means,covmat,xx,np.zeros((xx.shape[0],1)))\n",
    "plt.contourf(x1,x2,zldares.reshape((x1.shape[0],x2.shape[0])))\n",
    "plt.scatter(Xtest[:,0],Xtest[:,1],c=ytest)\n",
    "\n",
    "plt.show()\n",
    "\n",
    "zacc,zqdares = qdaTest(means,covmats,xx,np.zeros((xx.shape[0],1)))\n",
    "plt.contourf(x1,x2,zqdares.reshape((x1.shape[0],x2.shape[0])))\n",
    "plt.scatter(Xtest[:,0],Xtest[:,1],c=ytest)\n",
    "\n",
    "plt.show()\n",
    "\n",
    "# Problem 2\n",
    "\n",
    "if sys.version_info.major == 2:\n",
    "    X,y,Xtest,ytest = pickle.load(open('diabetes.pickle','rb'))\n",
    "else:\n",
    "    X,y,Xtest,ytest = pickle.load(open('diabetes.pickle','rb'),encoding = 'latin1')\n",
    "\n",
    "# add intercept\n",
    "X_i = np.concatenate((np.ones((X.shape[0],1)), X), axis=1)\n",
    "Xtest_i = np.concatenate((np.ones((Xtest.shape[0],1)), Xtest), axis=1)\n",
    "\n",
    "w = learnOLERegression(X,y)\n",
    "mle = testOLERegression(w,Xtest,ytest)\n",
    "\n",
    "w_i = learnOLERegression(X_i,y)\n",
    "mle_i = testOLERegression(w_i,Xtest_i,ytest)\n",
    "\n",
    "print('RMSE without intercept '+str(mle))\n",
    "print('RMSE with intercept '+str(mle_i))\n",
    "\n",
    "# Problem 3\n",
    "k = 101\n",
    "lambdas = np.linspace(0, 1, num=k)\n",
    "i = 0\n",
    "rmses3 = np.zeros((k,1))\n",
    "for lambd in lambdas:\n",
    "    w_l = learnRidgeRegression(X_i,y,lambd)\n",
    "    rmses3[i] = testOLERegression(w_l,Xtest_i,ytest)\n",
    "    i = i + 1\n",
    "plt.plot(lambdas,rmses3)\n",
    "\n",
    "# Problem 4\n",
    "k = 101\n",
    "lambdas = np.linspace(0, 1, num=k)\n",
    "i = 0\n",
    "rmses4 = np.zeros((k,1))\n",
    "opts = {'maxiter' : 100}    # Preferred value.                                                \n",
    "w_init = np.ones((X_i.shape[1],1))\n",
    "for lambd in lambdas:\n",
    "    args = (X_i, y, lambd)\n",
    "    # w_l = minimize(regressionObjVal, w_init, jac=True, args=args,method='CG', options=opts)\n",
    "    w_l = minimize(regressionObjVal, w_init, jac=True, args=args,method='BFGS', options=opts)\n",
    "    w_l = np.transpose(np.array(w_l.x))\n",
    "    w_l = np.reshape(w_l,[len(w_l),1])\n",
    "    rmses4[i] = testOLERegression(w_l,Xtest_i,ytest)\n",
    "    i = i + 1\n",
    "plt.plot(lambdas,rmses4)\n",
    "\n",
    "\n",
    "# Problem 5\n",
    "pmax = 7\n",
    "lambda_opt = lambdas[np.argmin(rmses4)]\n",
    "rmses5 = np.zeros((pmax,2))\n",
    "for p in range(pmax):\n",
    "    Xd = mapNonLinear(X[:,2],p)\n",
    "    Xdtest = mapNonLinear(Xtest[:,2],p)\n",
    "    w_d1 = learnRidgeRegression(Xd,y,0)\n",
    "    rmses5[p,0] = testOLERegression(w_d1,Xdtest,ytest)\n",
    "plt.plot(range(pmax),rmses5)  \n",
    "    w_d2 = learnRidgeRegression(Xd,y,lambda_opt)\n",
    "    rmses5[p,1] = testOLERegression(w_d2,Xdtest,ytest)\n",
    "plt.plot(range(pmax),rmses5)\n",
    "plt.legend(('No Regularization','Regularization'))\n"
   ]
  },
  {
   "cell_type": "code",
   "execution_count": null,
   "metadata": {
    "collapsed": true
   },
   "outputs": [],
   "source": []
  },
  {
   "cell_type": "code",
   "execution_count": null,
   "metadata": {
    "collapsed": true
   },
   "outputs": [],
   "source": []
  },
  {
   "cell_type": "code",
   "execution_count": null,
   "metadata": {
    "collapsed": true
   },
   "outputs": [],
   "source": []
  },
  {
   "cell_type": "code",
   "execution_count": null,
   "metadata": {
    "collapsed": true
   },
   "outputs": [],
   "source": []
  }
 ],
 "metadata": {
  "kernelspec": {
   "display_name": "Python 3",
   "language": "python",
   "name": "python3"
  },
  "language_info": {
   "codemirror_mode": {
    "name": "ipython",
    "version": 3
   },
   "file_extension": ".py",
   "mimetype": "text/x-python",
   "name": "python",
   "nbconvert_exporter": "python",
   "pygments_lexer": "ipython3",
   "version": "3.5.1"
  }
 },
 "nbformat": 4,
 "nbformat_minor": 0
}
