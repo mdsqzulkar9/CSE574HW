{
 "cells": [
  {
   "cell_type": "code",
   "execution_count": 6,
   "metadata": {
    "collapsed": false
   },
   "outputs": [
    {
     "ename": "ImportError",
     "evalue": "No module named numpy",
     "output_type": "error",
     "traceback": [
      "\u001b[0;31m---------------------------------------------------------------------------\u001b[0m",
      "\u001b[0;31mImportError\u001b[0m                               Traceback (most recent call last)",
      "\u001b[0;32m<ipython-input-6-4be54fab6409>\u001b[0m in \u001b[0;36m<module>\u001b[0;34m()\u001b[0m\n\u001b[0;32m----> 1\u001b[0;31m \u001b[0;32mimport\u001b[0m \u001b[0mnumpy\u001b[0m \u001b[0;32mas\u001b[0m \u001b[0mnp\u001b[0m\u001b[0;34m\u001b[0m\u001b[0m\n\u001b[0m\u001b[1;32m      2\u001b[0m \u001b[0;32mfrom\u001b[0m \u001b[0mscipy\u001b[0m\u001b[0;34m.\u001b[0m\u001b[0moptimize\u001b[0m \u001b[0;32mimport\u001b[0m \u001b[0mminimize\u001b[0m\u001b[0;34m\u001b[0m\u001b[0m\n\u001b[1;32m      3\u001b[0m \u001b[0;32mfrom\u001b[0m \u001b[0mscipy\u001b[0m\u001b[0;34m.\u001b[0m\u001b[0mio\u001b[0m \u001b[0;32mimport\u001b[0m \u001b[0mloadmat\u001b[0m\u001b[0;34m\u001b[0m\u001b[0m\n\u001b[1;32m      4\u001b[0m \u001b[0;32mfrom\u001b[0m \u001b[0mmath\u001b[0m \u001b[0;32mimport\u001b[0m \u001b[0msqrt\u001b[0m\u001b[0;34m\u001b[0m\u001b[0m\n\u001b[1;32m      5\u001b[0m \u001b[0;32mimport\u001b[0m \u001b[0mmatplotlib\u001b[0m\u001b[0;34m.\u001b[0m\u001b[0mpyplot\u001b[0m \u001b[0;32mas\u001b[0m \u001b[0mplt\u001b[0m\u001b[0;34m\u001b[0m\u001b[0m\n",
      "\u001b[0;31mImportError\u001b[0m: No module named numpy"
     ]
    }
   ],
   "source": [
    "import numpy as np\n",
    "from scipy.optimize import minimize\n",
    "from scipy.io import loadmat\n",
    "from math import sqrt\n",
    "import matplotlib.pyplot as plt\n",
    "import random\n",
    "%matplotlib inline\n",
    "np.set_printoptions(threshold=np.inf)"
   ]
  },
  {
   "cell_type": "code",
   "execution_count": 7,
   "metadata": {
    "collapsed": true
   },
   "outputs": [],
   "source": [
    "# No update required !\n",
    "def initializeWeights(n_in,n_out):\n",
    "    \"\"\"\n",
    "    # initializeWeights return the random weights for Neural Network given the\n",
    "    # number of node in the input layer and output layer\n",
    "    # Input:\n",
    "    # n_in: number of nodes of the input layer\n",
    "    # n_out: number of nodes of the output layer\n",
    "    # Output:\n",
    "    # W: matrix of random initial weights with size (n_out x (n_in + 1))\"\"\"\n",
    "\n",
    "    epsilon = sqrt(6) / sqrt(n_in + n_out + 1);\n",
    "    W = (np.random.rand(n_out, n_in + 1)*2* epsilon) - epsilon;\n",
    "    return W"
   ]
  },
  {
   "cell_type": "code",
   "execution_count": 8,
   "metadata": {
    "collapsed": true
   },
   "outputs": [],
   "source": [
    "# Updated and working fine\n",
    "def sigmoid(z):\n",
    "    \n",
    "    \"\"\"# Notice that z can be a scalar, a vector or a matrix\n",
    "    # return the sigmoid of input z\"\"\"\n",
    "    \n",
    "    return  1.0 / (1.0 + np.exp(-1.0 * z))"
   ]
  },
  {
   "cell_type": "code",
   "execution_count": 9,
   "metadata": {
    "collapsed": true
   },
   "outputs": [],
   "source": [
    "def preprocess():\n",
    "    \"\"\" Input:\n",
    "     Although this function doesn't have any input, you are required to load\n",
    "     the MNIST data set from file 'mnist_all.mat'.\n",
    "\n",
    "     Output:\n",
    "     train_data: matrix of training set. Each row of train_data contains \n",
    "       feature vector of a image\n",
    "     train_label: vector of label corresponding to each image in the training\n",
    "       set\n",
    "     validation_data: matrix of training set. Each row of validation_data \n",
    "       contains feature vector of a image\n",
    "     validation_label: vector of label corresponding to each image in the \n",
    "       training set\n",
    "     test_data: matrix of training set. Each row of test_data contains \n",
    "       feature vector of a image\n",
    "     test_label: vector of label corresponding to each image in the testing\n",
    "       set\n",
    "\n",
    "     Some suggestions for preprocessing step:\n",
    "     - divide the original data set to training, validation and testing set\n",
    "           with corresponding labels\n",
    "     - convert original data set from integer to double by using double()\n",
    "           function\n",
    "     - normalize the data to [0, 1]\n",
    "     - feature selection\"\"\"\n",
    "    \n",
    "    mat = loadmat('mnist_all.mat') #loads the MAT object as a Dictionary\n",
    "    \n",
    "    #Pick a reasonable size for validation data\n",
    "    validation_data_size = 10000\n",
    "    \n",
    "    #Your code here\n",
    "    # added by : Zulkar\n",
    "    # get all the training data: \n",
    "    print 'training data size:'\n",
    "    train0 = mat.get('train0')\n",
    "    print train0.shape\n",
    "    train1 = mat.get('train1')\n",
    "    print train1.shape\n",
    "    train2 = mat.get('train2')\n",
    "    print train2.shape\n",
    "    train3 = mat.get('train3')\n",
    "    print train3.shape\n",
    "    train4 = mat.get('train4')\n",
    "    print train4.shape\n",
    "    train5 = mat.get('train5')\n",
    "    print train5.shape\n",
    "    train6 = mat.get('train6')\n",
    "    print train6.shape\n",
    "    train7 = mat.get('train7')\n",
    "    print train7.shape\n",
    "    train8 = mat.get('train8')\n",
    "    print train8.shape\n",
    "    train9 = mat.get('train9')\n",
    "    print train9.shape\n",
    "\n",
    "    # get all the testing data: \n",
    "    print 'testing data size:'\n",
    "    test0 = mat.get('test0')\n",
    "    print test0.shape\n",
    "    test1 = mat.get('test1')\n",
    "    print test1.shape\n",
    "    test2 = mat.get('test2')\n",
    "    print test2.shape\n",
    "    test3 = mat.get('test3')\n",
    "    print test3.shape\n",
    "    test4 = mat.get('test4')\n",
    "    print test4.shape\n",
    "    test5 = mat.get('test5')\n",
    "    print test5.shape\n",
    "    test6 = mat.get('test6')\n",
    "    print test6.shape\n",
    "    test7 = mat.get('test7')\n",
    "    print test7.shape\n",
    "    test8 = mat.get('test8')\n",
    "    print test8.shape\n",
    "    test9 = mat.get('test9')\n",
    "    print test9.shape\n",
    "    \n",
    "    ## (1) Stack all training matrices into one 60000 \u0002 784 matrix. Do the same for test matrices.\n",
    "    train_mat = np.concatenate((train0, train1, train2, train3, train4, \n",
    "                            train5, train6, train7, train8, train9), \n",
    "                            axis=0)\n",
    "    print '\\n (1) Stack all training matrices into one 60000 \u0002 784 matrix. Do the same for test matrices.'\n",
    "    print 'training data size after merging :'\n",
    "    print train_mat.shape\n",
    "    \n",
    "\n",
    "    test_mat = np.concatenate((test0, test1, test2, test3, test4, \n",
    "                                test5, test6, test7, test8, test9), \n",
    "                                axis=0)\n",
    "    print 'test data dimension after merging:'\n",
    "    print test_mat.shape\n",
    "   \n",
    "    \n",
    "    ## (2) Create a 60000 length vector with true labels (digits) for each training example. Same for test data.\n",
    "    # training data : \n",
    "    shape_train = [train0.shape[0], train1.shape[0],train2.shape[0],train3.shape[0],\n",
    "             train4.shape[0], train5.shape[0],train6.shape[0],train7.shape[0],\n",
    "             train8.shape[0], train9.shape[0]]\n",
    "    \n",
    "    shape_train = np.array(shape_train)\n",
    "\n",
    "    training_data_list = []\n",
    "    labels = 0;\n",
    "\n",
    "    for shape in shape_train:\n",
    "        array = np.ones((shape,), dtype=np.int)   \n",
    "        array = labels*array\n",
    "        training_data_list.append(array)\n",
    "        labels = labels + 1;\n",
    "\n",
    "    train_label_all = []\n",
    "    for classes in training_data_list:\n",
    "        train_label_all = np.concatenate((train_label_all, classes), axis=0)\n",
    "   \n",
    "\n",
    "    # test data : \n",
    "    shape_test = [test0.shape[0], test1.shape[0],test2.shape[0],test3.shape[0],\n",
    "             test4.shape[0], test5.shape[0],test6.shape[0],test7.shape[0],\n",
    "             test8.shape[0], test9.shape[0]]\n",
    "   \n",
    "\n",
    "    test_data_list = []\n",
    "    labels = 0;\n",
    "\n",
    "    for shape in shape_test:\n",
    "        array = np.ones((shape,), dtype=np.int)   \n",
    "        array = labels*array\n",
    "        test_data_list.append(array)\n",
    "        labels = labels + 1;\n",
    "\n",
    "    test_label_all = []\n",
    "    for classes in test_data_list:\n",
    "        test_label_all = np.concatenate((test_label_all, classes), axis=0)\n",
    "   \n",
    "    \n",
    "    ## (3) Normalize the training matrix and test matrix so that the values are between 0 and 1.\n",
    "    # training data : \n",
    "    normalized_train_mat = (train_mat / 255)\n",
    "    print 'training matrix:'\n",
    "    print normalized_train_mat \n",
    "    \n",
    "    #test data : \n",
    "    normalized_test_mat = (test_mat / 255)\n",
    "    print 'test matrix'\n",
    "    print normalized_test_mat \n",
    "    \n",
    "    \n",
    "    ## (4) Randomly split the 60000 X 784 normalized matrix into two matrices: \n",
    "    ## training matrix (50000 X 784) and \n",
    "    ## validation matrix (10000 X 784). \n",
    "    ## Make sure you split the true labels vector into two parts as well.\n",
    "    \n",
    "    # marge normalized training matrix and training label\n",
    "    train_mat_with_label = np.zeros((60000,785))\n",
    "    train_mat_with_label[:,:-1] = normalized_train_mat\n",
    "    train_mat_with_label[:,-1] = train_label_all\n",
    "    print train_mat_with_label\n",
    "    print 'matrix dimension: '\n",
    "    print train_mat_with_label.shape\n",
    "    \n",
    "    # shuffle rows randomly \n",
    "    np.random.shuffle(train_mat_with_label)\n",
    "    print train_mat_with_label\n",
    "    \n",
    "    # perform split :\n",
    "    train_data_all_features = train_mat_with_label[:50000,:-1]\n",
    "    train_label = train_mat_with_label[:50000,-1]\n",
    "    validation_data_all_features = train_mat_with_label[50000:60000,:-1]\n",
    "    validation_label = train_mat_with_label[50000:60000,-1]\n",
    "    validation_label = validation_label.astype(int)\n",
    "    print train_data_all_features.shape\n",
    "    print train_label.shape\n",
    "    print validation_data_all_features.shape\n",
    "    print validation_label.shape\n",
    "    \n",
    "    # test data : \n",
    "    test_data_all_features = normalized_test_mat\n",
    "    test_label = test_label_all.astype(int)\n",
    "    print test_data_all_features.shape\n",
    "    print test_label.shape\n",
    "    \n",
    "    \n",
    "    #    Feature selection : one can observe that there are many features which values are exactly the same for all data points in the training set.\n",
    "    # we can ignore those features in the pre-processing step.\n",
    "    # Observation : we can ignore the columns those have same values for all data points.\n",
    "    \n",
    "    # merge all the data to get homogenous feature space for all training, test and validation data \n",
    "    all_data_all_features = np.concatenate((train_data_all_features,validation_data_all_features,test_data_all_features),axis = 0)\n",
    "\n",
    "    print all_data_all_features\n",
    "    print all_data_all_features.shape\n",
    "\n",
    "    all_data = all_data_all_features[:, all_data_all_features.sum(axis=0) > 0]\n",
    "    print all_data.shape\n",
    "\n",
    "    # split training , validation and tesing data: \n",
    "    train_data = all_data[:50000,:]\n",
    "    print train_data.shape\n",
    "    validation_data = all_data[50000:60000,:]\n",
    "    print validation_data.shape\n",
    "    test_data = all_data[60000:,:]\n",
    "    print test_data.shape\n",
    "    \n",
    "    \n",
    "    # commented by : Zulkar : \n",
    "    # train_data = np.array([])\n",
    "    # train_label = np.array([])\n",
    "    # validation_data = np.array([])\n",
    "    # validation_label = np.array([])\n",
    "    # test_data = np.array([])\n",
    "    # test_label = np.array([])\n",
    "    \n",
    "    return train_data, train_label, validation_data, validation_label, test_data, test_label\n"
   ]
  },
  {
   "cell_type": "code",
   "execution_count": 10,
   "metadata": {
    "collapsed": true
   },
   "outputs": [],
   "source": [
    "def nnPredict(w1,w2,data):\n",
    "    \n",
    "    \"\"\"% nnPredict predicts the label of data given the parameter w1, w2 of Neural\n",
    "    % Network.\n",
    "\n",
    "    % Input:\n",
    "    % w1: matrix of weights of connections from input layer to hidden layers.\n",
    "    %     w1(i, j) represents the weight of connection from unit i in input \n",
    "    %     layer to unit j in hidden layer.\n",
    "    % w2: matrix of weights of connections from hidden layer to output layers.\n",
    "    %     w2(i, j) represents the weight of connection from unit i in input \n",
    "    %     layer to unit j in hidden layer.\n",
    "    % data: matrix of data. Each row of this matrix represents the feature \n",
    "    %       vector of a particular image\n",
    "       \n",
    "    % Output: \n",
    "    % label: a column vector of predicted labels\"\"\" \n",
    "    #################################################################################\n",
    "    # added by: Zulkar\n",
    "    # add bias 1 at (d+1) position of each data point \n",
    "    N1 = train_data.shape[0]\n",
    "    N2 = train_data.shape[1]\n",
    "    train_data_bias = np.ones((N1,N2+1))\n",
    "    train_data_bias[:,:-1] = train_data\n",
    "    \n",
    "    \n",
    "    # computing dot product between data points and weights w1\n",
    "    a_hidden = np.inner(train_data_bias,w1)\n",
    "    print a_hidden.shape\n",
    "    \n",
    "    # compute threshold function (sigmoid)\n",
    "    z_hidden = sigmoid(a_hidden)\n",
    "    print z_hidden.shape\n",
    "    \n",
    "    # add bias hidden node (m+1)th to z_hidden. We set its value 1 directly\n",
    "    N1 = z_hidden.shape[0]\n",
    "    N2 = z_hidden.shape[1]\n",
    "    z_hidden_bias = np.ones((N1,N2+1))\n",
    "    z_hidden_bias[:,:-1] = z_hidden\n",
    "    \n",
    "    # computing dot product between hidden layer output z_hidden_bias and weights w2\n",
    "    a_output = np.inner(z_hidden_bias,w2)\n",
    "    print a_output.shape\n",
    "    \n",
    "    # compute threshold function (sigmoid)\n",
    "    z_output = sigmoid(a_output)\n",
    "    print z_output.shape\n",
    "    \n",
    "    # get the index of max element for each row\n",
    "    labels = np.argmax(z_output, axis=1)\n",
    "    print labels\n",
    "    print labels.dtype\n",
    "    ######################################################################################\n",
    "    #commented by : zulkar : 12:28am 2/29/16\n",
    "    #labels = np.array([])\n",
    "    #Your code here\n",
    "    \n",
    "    return labels"
   ]
  },
  {
   "cell_type": "code",
   "execution_count": 11,
   "metadata": {
    "collapsed": false
   },
   "outputs": [
    {
     "ename": "NameError",
     "evalue": "name 'np' is not defined",
     "output_type": "error",
     "traceback": [
      "\u001b[0;31m---------------------------------------------------------------------------\u001b[0m",
      "\u001b[0;31mNameError\u001b[0m                                 Traceback (most recent call last)",
      "\u001b[0;32m<ipython-input-11-d5ad86d8a29e>\u001b[0m in \u001b[0;36m<module>\u001b[0;34m()\u001b[0m\n\u001b[0;32m----> 1\u001b[0;31m \u001b[0mnp\u001b[0m\u001b[0;34m.\u001b[0m\u001b[0mset_printoptions\u001b[0m\u001b[0;34m(\u001b[0m\u001b[0mthreshold\u001b[0m\u001b[0;34m=\u001b[0m\u001b[0;36m1000\u001b[0m\u001b[0;34m)\u001b[0m\u001b[0;34m\u001b[0m\u001b[0m\n\u001b[0m",
      "\u001b[0;31mNameError\u001b[0m: name 'np' is not defined"
     ]
    }
   ],
   "source": [
    "np.set_printoptions(threshold=1000)"
   ]
  },
  {
   "cell_type": "code",
   "execution_count": 12,
   "metadata": {
    "collapsed": false
   },
   "outputs": [
    {
     "ename": "NameError",
     "evalue": "global name 'loadmat' is not defined",
     "output_type": "error",
     "traceback": [
      "\u001b[0;31m---------------------------------------------------------------------------\u001b[0m",
      "\u001b[0;31mNameError\u001b[0m                                 Traceback (most recent call last)",
      "\u001b[0;32m<ipython-input-12-1167003a5fa9>\u001b[0m in \u001b[0;36m<module>\u001b[0;34m()\u001b[0m\n\u001b[0;32m----> 1\u001b[0;31m \u001b[0mtrain_data\u001b[0m\u001b[0;34m,\u001b[0m \u001b[0mtrain_label\u001b[0m\u001b[0;34m,\u001b[0m \u001b[0mvalidation_data\u001b[0m\u001b[0;34m,\u001b[0m\u001b[0mvalidation_label\u001b[0m\u001b[0;34m,\u001b[0m \u001b[0mtest_data\u001b[0m\u001b[0;34m,\u001b[0m \u001b[0mtest_label\u001b[0m \u001b[0;34m=\u001b[0m \u001b[0mpreprocess\u001b[0m\u001b[0;34m(\u001b[0m\u001b[0;34m)\u001b[0m\u001b[0;34m;\u001b[0m\u001b[0;34m\u001b[0m\u001b[0m\n\u001b[0m",
      "\u001b[0;32m<ipython-input-9-80fc8f178a2c>\u001b[0m in \u001b[0;36mpreprocess\u001b[0;34m()\u001b[0m\n\u001b[1;32m     26\u001b[0m      - feature selection\"\"\"\n\u001b[1;32m     27\u001b[0m \u001b[0;34m\u001b[0m\u001b[0m\n\u001b[0;32m---> 28\u001b[0;31m     \u001b[0mmat\u001b[0m \u001b[0;34m=\u001b[0m \u001b[0mloadmat\u001b[0m\u001b[0;34m(\u001b[0m\u001b[0;34m'mnist_all.mat'\u001b[0m\u001b[0;34m)\u001b[0m \u001b[0;31m#loads the MAT object as a Dictionary\u001b[0m\u001b[0;34m\u001b[0m\u001b[0m\n\u001b[0m\u001b[1;32m     29\u001b[0m \u001b[0;34m\u001b[0m\u001b[0m\n\u001b[1;32m     30\u001b[0m     \u001b[0;31m#Pick a reasonable size for validation data\u001b[0m\u001b[0;34m\u001b[0m\u001b[0;34m\u001b[0m\u001b[0m\n",
      "\u001b[0;31mNameError\u001b[0m: global name 'loadmat' is not defined"
     ]
    }
   ],
   "source": [
    "train_data, train_label, validation_data,validation_label, test_data, test_label = preprocess();\n"
   ]
  },
  {
   "cell_type": "code",
   "execution_count": 13,
   "metadata": {
    "collapsed": false
   },
   "outputs": [
    {
     "ename": "NameError",
     "evalue": "name 'train_data' is not defined",
     "output_type": "error",
     "traceback": [
      "\u001b[0;31m---------------------------------------------------------------------------\u001b[0m",
      "\u001b[0;31mNameError\u001b[0m                                 Traceback (most recent call last)",
      "\u001b[0;32m<ipython-input-13-b126baf27f1b>\u001b[0m in \u001b[0;36m<module>\u001b[0;34m()\u001b[0m\n\u001b[1;32m      2\u001b[0m \u001b[0;34m\u001b[0m\u001b[0m\n\u001b[1;32m      3\u001b[0m \u001b[0;31m# set the number of nodes in input unit (not including bias unit)\u001b[0m\u001b[0;34m\u001b[0m\u001b[0;34m\u001b[0m\u001b[0m\n\u001b[0;32m----> 4\u001b[0;31m \u001b[0mn_input\u001b[0m \u001b[0;34m=\u001b[0m \u001b[0mtrain_data\u001b[0m\u001b[0;34m.\u001b[0m\u001b[0mshape\u001b[0m\u001b[0;34m[\u001b[0m\u001b[0;36m1\u001b[0m\u001b[0;34m]\u001b[0m\u001b[0;34m;\u001b[0m\u001b[0;34m\u001b[0m\u001b[0m\n\u001b[0m\u001b[1;32m      5\u001b[0m \u001b[0;34m\u001b[0m\u001b[0m\n\u001b[1;32m      6\u001b[0m \u001b[0;31m# set the number of nodes in hidden unit (not including bias unit)\u001b[0m\u001b[0;34m\u001b[0m\u001b[0;34m\u001b[0m\u001b[0m\n",
      "\u001b[0;31mNameError\u001b[0m: name 'train_data' is not defined"
     ]
    }
   ],
   "source": [
    "#  Train Neural Network\n",
    "\n",
    "# set the number of nodes in input unit (not including bias unit)\n",
    "n_input = train_data.shape[1]; \n",
    "\n",
    "# set the number of nodes in hidden unit (not including bias unit)\n",
    "n_hidden = 50;\n",
    "\n",
    "# set the number of nodes in output unit\n",
    "n_class = 10;\n",
    "print n_class"
   ]
  },
  {
   "cell_type": "code",
   "execution_count": 14,
   "metadata": {
    "collapsed": false
   },
   "outputs": [
    {
     "ename": "NameError",
     "evalue": "name 'n_input' is not defined",
     "output_type": "error",
     "traceback": [
      "\u001b[0;31m---------------------------------------------------------------------------\u001b[0m",
      "\u001b[0;31mNameError\u001b[0m                                 Traceback (most recent call last)",
      "\u001b[0;32m<ipython-input-14-c0f7edecefd9>\u001b[0m in \u001b[0;36m<module>\u001b[0;34m()\u001b[0m\n\u001b[1;32m      1\u001b[0m \u001b[0;31m# initialize the weights into some random matrices\u001b[0m\u001b[0;34m\u001b[0m\u001b[0;34m\u001b[0m\u001b[0m\n\u001b[0;32m----> 2\u001b[0;31m \u001b[0minitial_w1\u001b[0m \u001b[0;34m=\u001b[0m \u001b[0minitializeWeights\u001b[0m\u001b[0;34m(\u001b[0m\u001b[0mn_input\u001b[0m\u001b[0;34m,\u001b[0m \u001b[0mn_hidden\u001b[0m\u001b[0;34m)\u001b[0m\u001b[0;34m;\u001b[0m\u001b[0;34m\u001b[0m\u001b[0m\n\u001b[0m\u001b[1;32m      3\u001b[0m \u001b[0minitial_w2\u001b[0m \u001b[0;34m=\u001b[0m \u001b[0minitializeWeights\u001b[0m\u001b[0;34m(\u001b[0m\u001b[0mn_hidden\u001b[0m\u001b[0;34m,\u001b[0m \u001b[0mn_class\u001b[0m\u001b[0;34m)\u001b[0m\u001b[0;34m;\u001b[0m\u001b[0;34m\u001b[0m\u001b[0m\n",
      "\u001b[0;31mNameError\u001b[0m: name 'n_input' is not defined"
     ]
    }
   ],
   "source": [
    "# initialize the weights into some random matrices\n",
    "initial_w1 = initializeWeights(n_input, n_hidden);\n",
    "initial_w2 = initializeWeights(n_hidden, n_class);"
   ]
  },
  {
   "cell_type": "code",
   "execution_count": 15,
   "metadata": {
    "collapsed": false
   },
   "outputs": [
    {
     "ename": "NameError",
     "evalue": "name 'np' is not defined",
     "output_type": "error",
     "traceback": [
      "\u001b[0;31m---------------------------------------------------------------------------\u001b[0m",
      "\u001b[0;31mNameError\u001b[0m                                 Traceback (most recent call last)",
      "\u001b[0;32m<ipython-input-15-5f173d9a2254>\u001b[0m in \u001b[0;36m<module>\u001b[0;34m()\u001b[0m\n\u001b[1;32m      1\u001b[0m \u001b[0;31m# unroll 2 weight matrices into single column vector\u001b[0m\u001b[0;34m\u001b[0m\u001b[0;34m\u001b[0m\u001b[0m\n\u001b[0;32m----> 2\u001b[0;31m \u001b[0minitialWeights\u001b[0m \u001b[0;34m=\u001b[0m \u001b[0mnp\u001b[0m\u001b[0;34m.\u001b[0m\u001b[0mconcatenate\u001b[0m\u001b[0;34m(\u001b[0m\u001b[0;34m(\u001b[0m\u001b[0minitial_w1\u001b[0m\u001b[0;34m.\u001b[0m\u001b[0mflatten\u001b[0m\u001b[0;34m(\u001b[0m\u001b[0;34m)\u001b[0m\u001b[0;34m,\u001b[0m \u001b[0minitial_w2\u001b[0m\u001b[0;34m.\u001b[0m\u001b[0mflatten\u001b[0m\u001b[0;34m(\u001b[0m\u001b[0;34m)\u001b[0m\u001b[0;34m)\u001b[0m\u001b[0;34m,\u001b[0m\u001b[0;36m0\u001b[0m\u001b[0;34m)\u001b[0m\u001b[0;34m\u001b[0m\u001b[0m\n\u001b[0m",
      "\u001b[0;31mNameError\u001b[0m: name 'np' is not defined"
     ]
    }
   ],
   "source": [
    "# unroll 2 weight matrices into single column vector\n",
    "initialWeights = np.concatenate((initial_w1.flatten(), initial_w2.flatten()),0)"
   ]
  },
  {
   "cell_type": "code",
   "execution_count": 13,
   "metadata": {
    "collapsed": true
   },
   "outputs": [],
   "source": [
    "# set the regularization hyper-parameter\n",
    "lambdaval = 0;"
   ]
  },
  {
   "cell_type": "code",
   "execution_count": 14,
   "metadata": {
    "collapsed": false
   },
   "outputs": [
    {
     "ename": "NameError",
     "evalue": "name 'nnObjFunction' is not defined",
     "output_type": "error",
     "traceback": [
      "\u001b[1;31m---------------------------------------------------------------------------\u001b[0m",
      "\u001b[1;31mNameError\u001b[0m                                 Traceback (most recent call last)",
      "\u001b[1;32m<ipython-input-14-40b54e970352>\u001b[0m in \u001b[0;36m<module>\u001b[1;34m()\u001b[0m\n\u001b[0;32m      7\u001b[0m \u001b[0mopts\u001b[0m \u001b[1;33m=\u001b[0m \u001b[1;33m{\u001b[0m\u001b[1;34m'maxiter'\u001b[0m \u001b[1;33m:\u001b[0m \u001b[1;36m50\u001b[0m\u001b[1;33m}\u001b[0m    \u001b[1;31m# Preferred value.\u001b[0m\u001b[1;33m\u001b[0m\u001b[0m\n\u001b[0;32m      8\u001b[0m \u001b[1;33m\u001b[0m\u001b[0m\n\u001b[1;32m----> 9\u001b[1;33m \u001b[0mnn_params\u001b[0m \u001b[1;33m=\u001b[0m \u001b[0mminimize\u001b[0m\u001b[1;33m(\u001b[0m\u001b[0mnnObjFunction\u001b[0m\u001b[1;33m,\u001b[0m \u001b[0minitialWeights\u001b[0m\u001b[1;33m,\u001b[0m \u001b[0mjac\u001b[0m\u001b[1;33m=\u001b[0m\u001b[0mTrue\u001b[0m\u001b[1;33m,\u001b[0m \u001b[0margs\u001b[0m\u001b[1;33m=\u001b[0m\u001b[0margs\u001b[0m\u001b[1;33m,\u001b[0m\u001b[0mmethod\u001b[0m\u001b[1;33m=\u001b[0m\u001b[1;34m'CG'\u001b[0m\u001b[1;33m,\u001b[0m \u001b[0moptions\u001b[0m\u001b[1;33m=\u001b[0m\u001b[0mopts\u001b[0m\u001b[1;33m)\u001b[0m\u001b[1;33m\u001b[0m\u001b[0m\n\u001b[0m\u001b[0;32m     10\u001b[0m \u001b[1;33m\u001b[0m\u001b[0m\n\u001b[0;32m     11\u001b[0m \u001b[1;31m#In Case you want to use fmin_cg, you may have to split the nnObjectFunction to two functions nnObjFunctionVal\u001b[0m\u001b[1;33m\u001b[0m\u001b[1;33m\u001b[0m\u001b[0m\n",
      "\u001b[1;31mNameError\u001b[0m: name 'nnObjFunction' is not defined"
     ]
    }
   ],
   "source": [
    "# This part is not working right now ... need to update \n",
    "\n",
    "args = (n_input, n_hidden, n_class, train_data, train_label, lambdaval)\n",
    "\n",
    "#Train Neural Network using fmin_cg or minimize from scipy,optimize module. Check documentation for a working example\n",
    "\n",
    "opts = {'maxiter' : 50}    # Preferred value.\n",
    "\n",
    "nn_params = minimize(nnObjFunction, initialWeights, jac=True, args=args,method='CG', options=opts)\n",
    "\n",
    "#In Case you want to use fmin_cg, you may have to split the nnObjectFunction to two functions nnObjFunctionVal\n",
    "#and nnObjGradient. Check documentation for this function before you proceed.\n",
    "#nn_params, cost = fmin_cg(nnObjFunctionVal, initialWeights, nnObjGradient,args = args, maxiter = 50)\n",
    "\n",
    "#Reshape nnParams from 1D vector into w1 and w2 matrices\n",
    "w1 = nn_params.x[0:n_hidden * (n_input + 1)].reshape( (n_hidden, (n_input + 1)))\n",
    "w2 = nn_params.x[(n_hidden * (n_input + 1)):].reshape((n_class, (n_hidden + 1)))"
   ]
  },
  {
   "cell_type": "code",
   "execution_count": 15,
   "metadata": {
    "collapsed": false
   },
   "outputs": [
    {
     "name": "stdout",
     "output_type": "stream",
     "text": [
      "(50000, 50)\n",
      "(50000, 50)\n",
      "(50000, 10)\n",
      "(50000, 10)\n",
      "[0 2 2 ..., 2 0 2]\n",
      "int64\n"
     ]
    }
   ],
   "source": [
    "# This part is working \n",
    "\n",
    "\n",
    "# To test this part we can send initial random weights to nnPredict(...) function \n",
    "#################### this part is just for testing. Don't put it in final version ##########\n",
    "w1 = initial_w1\n",
    "w2 = initial_w2\n",
    "#############################################################################################\n",
    "\n",
    "#Test the computed parameters\n",
    "predicted_label = nnPredict(w1,w2,train_data)"
   ]
  },
  {
   "cell_type": "code",
   "execution_count": 5,
   "metadata": {
    "collapsed": false
   },
   "outputs": [
    {
     "ename": "NameError",
     "evalue": "name 'train_data' is not defined",
     "output_type": "error",
     "traceback": [
      "\u001b[0;31m---------------------------------------------------------------------------\u001b[0m",
      "\u001b[0;31mNameError\u001b[0m                                 Traceback (most recent call last)",
      "\u001b[0;32m<ipython-input-5-ae042bb8f8f0>\u001b[0m in \u001b[0;36m<module>\u001b[0;34m()\u001b[0m\n\u001b[1;32m     51\u001b[0m \u001b[0;34m\u001b[0m\u001b[0m\n\u001b[1;32m     52\u001b[0m \u001b[0;31m# add bias 1 at (d+1) position of each data point\u001b[0m\u001b[0;34m\u001b[0m\u001b[0;34m\u001b[0m\u001b[0m\n\u001b[0;32m---> 53\u001b[0;31m \u001b[0mN1\u001b[0m \u001b[0;34m=\u001b[0m \u001b[0mtrain_data\u001b[0m\u001b[0;34m.\u001b[0m\u001b[0mshape\u001b[0m\u001b[0;34m[\u001b[0m\u001b[0;36m0\u001b[0m\u001b[0;34m]\u001b[0m\u001b[0;34m\u001b[0m\u001b[0m\n\u001b[0m\u001b[1;32m     54\u001b[0m \u001b[0mN2\u001b[0m \u001b[0;34m=\u001b[0m \u001b[0mtrain_data\u001b[0m\u001b[0;34m.\u001b[0m\u001b[0mshape\u001b[0m\u001b[0;34m[\u001b[0m\u001b[0;36m1\u001b[0m\u001b[0;34m]\u001b[0m\u001b[0;34m\u001b[0m\u001b[0m\n\u001b[1;32m     55\u001b[0m \u001b[0mtrain_data_bias\u001b[0m \u001b[0;34m=\u001b[0m \u001b[0mnp\u001b[0m\u001b[0;34m.\u001b[0m\u001b[0mones\u001b[0m\u001b[0;34m(\u001b[0m\u001b[0;34m(\u001b[0m\u001b[0mN1\u001b[0m\u001b[0;34m,\u001b[0m\u001b[0mN2\u001b[0m\u001b[0;34m+\u001b[0m\u001b[0;36m1\u001b[0m\u001b[0;34m)\u001b[0m\u001b[0;34m)\u001b[0m\u001b[0;34m\u001b[0m\u001b[0m\n",
      "\u001b[0;31mNameError\u001b[0m: name 'train_data' is not defined"
     ]
    }
   ],
   "source": [
    "# start: nnObjFunction :\n",
    "\n",
    "\"\"\"% nnObjFunction computes the value of objective function (negative log \n",
    "    %   likelihood error function with regularization) given the parameters \n",
    "    %   of Neural Networks, thetraining data, their corresponding training \n",
    "    %   labels and lambda - regularization hyper-parameter.\n",
    "\n",
    "    % Input:\n",
    "    % params: vector of weights of 2 matrices w1 (weights of connections from\n",
    "    %     input layer to hidden layer) and w2 (weights of connections from\n",
    "    %     hidden layer to output layer) where all of the weights are contained\n",
    "    %     in a single vector.\n",
    "    % n_input: number of node in input layer (not include the bias node)\n",
    "    % n_hidden: number of node in hidden layer (not include the bias node)\n",
    "    % n_class: number of node in output layer (number of classes in\n",
    "    %     classification problem\n",
    "    % training_data: matrix of training data. Each row of this matrix\n",
    "    %     represents the feature vector of a particular image\n",
    "    % training_label: the vector of truth label of training images. Each entry\n",
    "    %     in the vector represents the truth label of its corresponding image.\n",
    "    % lambda: regularization hyper-parameter. This value is used for fixing the\n",
    "    %     overfitting problem.\n",
    "       \n",
    "    % Output: \n",
    "    % obj_val: a scalar value representing value of error function\n",
    "    % obj_grad: a SINGLE vector of gradient value of error function\n",
    "    % NOTE: how to compute obj_grad\n",
    "    % Use backpropagation algorithm to compute the gradient of error function\n",
    "    % for each weights in weight matrices.\n",
    "\n",
    "    %%%%%%%%%%%%%%%%%%%%%%%%%%%%%%%%%%%%%%%%%%%%%%%%%%%%%%%%%%\n",
    "    % reshape 'params' vector into 2 matrices of weight w1 and w2\n",
    "    % w1: matrix of weights of connections from input layer to hidden layers.\n",
    "    %     w1(i, j) represents the weight of connection from unit j in input \n",
    "    %     layer to unit i in hidden layer.\n",
    "    % w2: matrix of weights of connections from hidden layer to output layers.\n",
    "    %     w2(i, j) represents the weight of connection from unit j in hidden \n",
    "    %     layer to unit i in output layer.\"\"\"\n",
    "    \n",
    "   \n",
    "    \n",
    "\n",
    "\n",
    "\n",
    "# compute the feed forward pass for all the training input:\n",
    "#################################################################################\n",
    "# added by: Zulkar\n",
    "\n",
    "# Number of output nodes:\n",
    "k = 10;\n",
    "\n",
    "# add bias 1 at (d+1) position of each data point \n",
    "N1 = train_data.shape[0]\n",
    "N2 = train_data.shape[1]\n",
    "train_data_bias = np.ones((N1,N2+1))\n",
    "train_data_bias[:,:-1] = train_data\n",
    "\n",
    "\n",
    "# computing dot product between data points and weights w1\n",
    "a_hidden = np.inner(train_data_bias,w1)\n",
    "print a_hidden.shape\n",
    "\n",
    "# compute threshold function (sigmoid)\n",
    "z_hidden = sigmoid(a_hidden)\n",
    "print \"z_hidden.shape\"\n",
    "print z_hidden.shape\n",
    "\n",
    "# add bias hidden node (m+1)th to z_hidden. We set its value 1 directly\n",
    "N1 = z_hidden.shape[0]\n",
    "N2 = z_hidden.shape[1]\n",
    "z_hidden_bias = np.ones((N1,N2+1))\n",
    "z_hidden_bias[:,:-1] = z_hidden\n",
    "\n",
    "# computing dot product between hidden layer output z_hidden_bias and weights w2\n",
    "a_output = np.inner(z_hidden_bias,w2)\n",
    "print \"a_output.shape : \"\n",
    "print a_output.shape     \n",
    "\n",
    "# compute equation (4): threshold function (sigmoid)\n",
    "z_output = sigmoid(a_output)\n",
    "print z_output.shape\n",
    "\n",
    "labels = np.argmax(z_output, axis=1)\n",
    "\n",
    "# creating training_label : converting each label to a 10 dimension vector. \n",
    "training_label = np.zeros((N1,k))\n",
    "i = 0\n",
    "for index in train_label:\n",
    "    training_label[i,index] = 1\n",
    "    i = i + 1\n",
    "print \"training label.shape\"\n",
    "print training_label.shape    \n",
    "\n",
    "#create empty vector of 0's for the 1-of-k vector, it will hold a 1 in the index of the predicted number\n",
    "one_of_k = np.zeros((z_output.shape[0],z_output.shape[1]))\n",
    "\n",
    "for i in range(len(z_output)):\n",
    "    # print (i)\n",
    "    # print (labels[i])\n",
    "    one_of_k[i][labels[i]] = 1\n",
    "\n",
    "# compute equation (5): error function : J_p(W(1) ,W(2))\n",
    "difference =  one_of_k - z_output\n",
    "difference_squared = np.square(difference)\n",
    "summation_difference_squared = np.sum(difference_squared,axis = 1)\n",
    "Jp = 0.5 * summation_difference_squared\n",
    "\n",
    "print Jp.shape\n",
    "\n",
    "# compute equation (6): total error of the entire dataset\n",
    "J = sum(Jp)/50000;\n",
    "print \"J = \"\n",
    "print J\n",
    "\n",
    "# compute equation (9): lambda error for output layer\n",
    "lambda_l = (training_label - z_output)*(1- z_output)*z_output\n",
    "print \"lambda_l.shape\"\n",
    "print lambda_l.shape\n",
    "\n",
    "# compute equation (7 & 8) :  derivative of error function with respect to the weight from the hidden unit j to output unit l\n",
    "del_Jp_w2 = -1.0 * lambda_l * z_hidden\n",
    "\n",
    "# compute equation (10 & 11 & 12) :  derivative of error function with respect to the weight from the input unit i to output unit j \n",
    "# temp = lambda_l * w2\n",
    "# del_Jp_w1 = -1.0 * (1.0 - z_hidden) * z_hidden * (np.sum(temp)) * train_data_bias\n",
    "\n",
    "# compute equation (13) \n",
    "\n",
    "\n",
    "\n"
   ]
  },
  {
   "cell_type": "code",
   "execution_count": null,
   "metadata": {
    "collapsed": true
   },
   "outputs": [],
   "source": []
  }
 ],
 "metadata": {
  "kernelspec": {
   "display_name": "Python 2",
   "language": "python",
   "name": "python2"
  },
  "language_info": {
   "codemirror_mode": {
    "name": "ipython",
    "version": 2
   },
   "file_extension": ".py",
   "mimetype": "text/x-python",
   "name": "python",
   "nbconvert_exporter": "python",
   "pygments_lexer": "ipython2",
   "version": "2.7.11"
  }
 },
 "nbformat": 4,
 "nbformat_minor": 0
}
