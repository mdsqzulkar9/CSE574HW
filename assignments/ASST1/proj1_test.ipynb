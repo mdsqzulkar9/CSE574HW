{
 "cells": [
  {
   "cell_type": "code",
   "execution_count": 115,
   "metadata": {
    "collapsed": false
   },
   "outputs": [],
   "source": [
    "import numpy as np\n",
    "from scipy.optimize import minimize\n",
    "from scipy.io import loadmat\n",
    "from math import sqrt\n",
    "import matplotlib.pyplot as plt\n",
    "import random\n",
    "%matplotlib inline"
   ]
  },
  {
   "cell_type": "markdown",
   "metadata": {},
   "source": [
    "#  Loading training data"
   ]
  },
  {
   "cell_type": "code",
   "execution_count": 116,
   "metadata": {
    "collapsed": true
   },
   "outputs": [],
   "source": [
    "mat = loadmat('./mnist_all.mat')"
   ]
  },
  {
   "cell_type": "code",
   "execution_count": null,
   "metadata": {
    "collapsed": true
   },
   "outputs": [],
   "source": [
    "mat.keys()"
   ]
  },
  {
   "cell_type": "code",
   "execution_count": 119,
   "metadata": {
    "collapsed": false
   },
   "outputs": [
    {
     "name": "stdout",
     "output_type": "stream",
     "text": [
      "training data:\n",
      "(5923, 784)\n",
      "(6742, 784)\n",
      "(5958, 784)\n",
      "(6131, 784)\n",
      "(5842, 784)\n",
      "(5421, 784)\n",
      "(5918, 784)\n",
      "(6265, 784)\n",
      "(5851, 784)\n",
      "(5949, 784)\n",
      "(60000, 784)\n",
      "testing data:\n",
      "(980, 784)\n",
      "(1135, 784)\n",
      "(1032, 784)\n",
      "(1010, 784)\n",
      "(982, 784)\n",
      "(892, 784)\n",
      "(958, 784)\n",
      "(1028, 784)\n",
      "(974, 784)\n",
      "(1009, 784)\n"
     ]
    }
   ],
   "source": [
    "# get all the training data: \n",
    "print 'training data:'\n",
    "train0 = mat.get('train0')\n",
    "print train0.shape\n",
    "train1 = mat.get('train1')\n",
    "print train1.shape\n",
    "train2 = mat.get('train2')\n",
    "print train2.shape\n",
    "train3 = mat.get('train3')\n",
    "print train3.shape\n",
    "train4 = mat.get('train4')\n",
    "print train4.shape\n",
    "train5 = mat.get('train5')\n",
    "print train5.shape\n",
    "train6 = mat.get('train6')\n",
    "print train6.shape\n",
    "train7 = mat.get('train7')\n",
    "print train7.shape\n",
    "train8 = mat.get('train8')\n",
    "print train8.shape\n",
    "train9 = mat.get('train9')\n",
    "print train9.shape\n",
    "print train_mat.shape\n",
    "\n",
    "# get all the testing data: \n",
    "print 'testing data:'\n",
    "test0 = mat.get('test0')\n",
    "print test0.shape\n",
    "test1 = mat.get('test1')\n",
    "print test1.shape\n",
    "test2 = mat.get('test2')\n",
    "print test2.shape\n",
    "test3 = mat.get('test3')\n",
    "print test3.shape\n",
    "test4 = mat.get('test4')\n",
    "print test4.shape\n",
    "test5 = mat.get('test5')\n",
    "print test5.shape\n",
    "test6 = mat.get('test6')\n",
    "print test6.shape\n",
    "test7 = mat.get('test7')\n",
    "print test7.shape\n",
    "test8 = mat.get('test8')\n",
    "print test8.shape\n",
    "test9 = mat.get('test9')\n",
    "print test9.shape"
   ]
  },
  {
   "cell_type": "markdown",
   "metadata": {},
   "source": [
    "# (1) Stack all training matrices into one 60000 \u0002 784 matrix. Do the same for test matrices."
   ]
  },
  {
   "cell_type": "code",
   "execution_count": 120,
   "metadata": {
    "collapsed": false
   },
   "outputs": [
    {
     "name": "stdout",
     "output_type": "stream",
     "text": [
      "training data dimension:\n",
      "(60000, 784)\n",
      "<type 'numpy.ndarray'>\n",
      "training data dimension:\n",
      "(10000, 784)\n",
      "<type 'numpy.ndarray'>\n"
     ]
    }
   ],
   "source": [
    "train_mat = np.concatenate((train0, train1, train2, train3, train4, \n",
    "                            train5, train6, train7, train8, train9), \n",
    "                            axis=0)\n",
    "print 'training data dimension:'\n",
    "print train_mat.shape\n",
    "print type(train_mat)\n",
    "\n",
    "test_mat = np.concatenate((test0, test1, test2, test3, test4, \n",
    "                            test5, test6, test7, test8, test9), \n",
    "                            axis=0)\n",
    "print 'training data dimension:'\n",
    "print test_mat.shape\n",
    "print type(test_mat)"
   ]
  },
  {
   "cell_type": "markdown",
   "metadata": {},
   "source": [
    "# (2) Create a 60000 length vector with true labels (digits) for each training example. Same for test data."
   ]
  },
  {
   "cell_type": "code",
   "execution_count": 124,
   "metadata": {
    "collapsed": false
   },
   "outputs": [
    {
     "name": "stdout",
     "output_type": "stream",
     "text": [
      "[5923, 6742, 5958, 6131, 5842, 5421, 5918, 6265, 5851, 5949]\n",
      "[ 0.  0.  0. ...,  9.  9.  9.]\n",
      "(60000,)\n",
      "[980, 1135, 1032, 1010, 982, 892, 958, 1028, 974, 1009]\n",
      "[ 0.  0.  0. ...,  9.  9.  9.]\n",
      "(10000,)\n"
     ]
    }
   ],
   "source": [
    "# training data : \n",
    "shape_train = [train0.shape[0], train1.shape[0],train2.shape[0],train3.shape[0],\n",
    "         train4.shape[0], train5.shape[0],train6.shape[0],train7.shape[0],\n",
    "         train8.shape[0], train9.shape[0]]\n",
    "print shape_train\n",
    "shape_train = np.array(shape_train)\n",
    "\n",
    "training_data_list = []\n",
    "labels = 0;\n",
    "\n",
    "for shape in shape_train:\n",
    "    array = np.ones((shape,), dtype=np.int)   \n",
    "    array = labels*array\n",
    "    training_data_list.append(array)\n",
    "    labels = labels + 1;\n",
    "\n",
    "train_label_all = []\n",
    "for classes in training_data_list:\n",
    "    train_label_all = np.concatenate((train_label_all, classes), axis=0)\n",
    "print train_label_all\n",
    "print train_label_all.shape\n",
    "\n",
    "# test data : \n",
    "shape_test = [test0.shape[0], test1.shape[0],test2.shape[0],test3.shape[0],\n",
    "         test4.shape[0], test5.shape[0],test6.shape[0],test7.shape[0],\n",
    "         test8.shape[0], test9.shape[0]]\n",
    "print shape_test\n",
    "shape_test = np.array(shape_test)\n",
    "\n",
    "test_data_list = []\n",
    "labels = 0;\n",
    "\n",
    "for shape in shape_test:\n",
    "    array = np.ones((shape,), dtype=np.int)   \n",
    "    array = labels*array\n",
    "    test_data_list.append(array)\n",
    "    labels = labels + 1;\n",
    "\n",
    "test_label_all = []\n",
    "for classes in test_data_list:\n",
    "    test_label_all = np.concatenate((test_label_all, classes), axis=0)\n",
    "print test_label_all\n",
    "print test_label_all.shape"
   ]
  },
  {
   "cell_type": "markdown",
   "metadata": {},
   "source": [
    "# (3) Normalize the training matrix and test matrix so that the values are between 0 and 1."
   ]
  },
  {
   "cell_type": "code",
   "execution_count": 126,
   "metadata": {
    "collapsed": false
   },
   "outputs": [
    {
     "name": "stdout",
     "output_type": "stream",
     "text": [
      "training matrix:\n",
      "[[0 0 0 ..., 0 0 0]\n",
      " [0 0 0 ..., 0 0 0]\n",
      " [0 0 0 ..., 0 0 0]\n",
      " ..., \n",
      " [0 0 0 ..., 0 0 0]\n",
      " [0 0 0 ..., 0 0 0]\n",
      " [0 0 0 ..., 0 0 0]]\n",
      "test matrix\n",
      "[[0 0 0 ..., 0 0 0]\n",
      " [0 0 0 ..., 0 0 0]\n",
      " [0 0 0 ..., 0 0 0]\n",
      " ..., \n",
      " [0 0 0 ..., 0 0 0]\n",
      " [0 0 0 ..., 0 0 0]\n",
      " [0 0 0 ..., 0 0 0]]\n"
     ]
    }
   ],
   "source": [
    "# training data : \n",
    "normalized_train_mat = (train_mat / 255)\n",
    "print 'training matrix:'\n",
    "print normalized_train_mat \n",
    "#test data : \n",
    "normalized_test_mat = (test_mat / 255)\n",
    "print 'test matrix'\n",
    "print normalized_test_mat "
   ]
  },
  {
   "cell_type": "markdown",
   "metadata": {},
   "source": [
    "# Randomly split the 60000 X 784 normalized matrix into two matrices: training matrix (50000 X 784) and validation matrix (10000 X  784). Make sure you split the true labels vector into two parts as well."
   ]
  },
  {
   "cell_type": "code",
   "execution_count": 132,
   "metadata": {
    "collapsed": false
   },
   "outputs": [
    {
     "name": "stdout",
     "output_type": "stream",
     "text": [
      "[[ 0.  0.  0. ...,  0.  0.  0.]\n",
      " [ 0.  0.  0. ...,  0.  0.  0.]\n",
      " [ 0.  0.  0. ...,  0.  0.  0.]\n",
      " ..., \n",
      " [ 0.  0.  0. ...,  0.  0.  9.]\n",
      " [ 0.  0.  0. ...,  0.  0.  9.]\n",
      " [ 0.  0.  0. ...,  0.  0.  9.]]\n",
      "matrix dimension: \n",
      "(60000, 785)\n"
     ]
    }
   ],
   "source": [
    "# marge normalized training matrix and training label\n",
    "train_mat_with_label = np.zeros((60000,785))\n",
    "train_mat_with_label[:,:-1] = normalized_train_mat\n",
    "train_mat_with_label[:,-1] = train_label_all\n",
    "print train_mat_with_label\n",
    "print 'matrix dimension: '\n",
    "print train_mat_with_label.shape"
   ]
  },
  {
   "cell_type": "code",
   "execution_count": 134,
   "metadata": {
    "collapsed": false
   },
   "outputs": [
    {
     "name": "stdout",
     "output_type": "stream",
     "text": [
      "[[ 0.  0.  0. ...,  0.  0.  4.]\n",
      " [ 0.  0.  0. ...,  0.  0.  3.]\n",
      " [ 0.  0.  0. ...,  0.  0.  5.]\n",
      " ..., \n",
      " [ 0.  0.  0. ...,  0.  0.  4.]\n",
      " [ 0.  0.  0. ...,  0.  0.  0.]\n",
      " [ 0.  0.  0. ...,  0.  0.  7.]]\n"
     ]
    }
   ],
   "source": [
    "# shuffle rows randomly \n",
    "np.random.shuffle(train_mat_with_label)\n",
    "print train_mat_with_label"
   ]
  },
  {
   "cell_type": "code",
   "execution_count": 136,
   "metadata": {
    "collapsed": false
   },
   "outputs": [
    {
     "name": "stdout",
     "output_type": "stream",
     "text": [
      "(50000, 784)\n",
      "(50000,)\n",
      "(10000, 784)\n",
      "(10000,)\n"
     ]
    }
   ],
   "source": [
    "# perform split :\n",
    "train_data = train_mat_with_label[:50000,:-1]\n",
    "train_label = train_mat_with_label[:50000,-1]\n",
    "validation_data = train_mat_with_label[50000:60000,:-1]\n",
    "validation_label = train_mat_with_label[50000:60000,-1]\n",
    "print train_data.shape\n",
    "print train_label.shape\n",
    "print validation_data.shape\n",
    "print validation_label.shape"
   ]
  },
  {
   "cell_type": "code",
   "execution_count": 137,
   "metadata": {
    "collapsed": false
   },
   "outputs": [
    {
     "name": "stdout",
     "output_type": "stream",
     "text": [
      "(10000, 784)\n",
      "(10000,)\n"
     ]
    }
   ],
   "source": [
    "# test data : \n",
    "test_data = normalized_test_mat\n",
    "test_label = test_label_all\n",
    "print test_data.shape\n",
    "print test_label.shape"
   ]
  },
  {
   "cell_type": "code",
   "execution_count": null,
   "metadata": {
    "collapsed": true
   },
   "outputs": [],
   "source": []
  }
 ],
 "metadata": {
  "kernelspec": {
   "display_name": "Python 2",
   "language": "python",
   "name": "python2"
  },
  "language_info": {
   "codemirror_mode": {
    "name": "ipython",
    "version": 2
   },
   "file_extension": ".py",
   "mimetype": "text/x-python",
   "name": "python",
   "nbconvert_exporter": "python",
   "pygments_lexer": "ipython2",
   "version": "2.7.11"
  }
 },
 "nbformat": 4,
 "nbformat_minor": 0
}
