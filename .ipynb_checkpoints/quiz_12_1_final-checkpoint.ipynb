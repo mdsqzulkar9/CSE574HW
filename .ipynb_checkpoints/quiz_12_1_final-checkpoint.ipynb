{
 "cells": [
  {
   "cell_type": "code",
   "execution_count": null,
   "metadata": {
    "collapsed": true
   },
   "outputs": [],
   "source": [
    "import numpy as np\n",
    "import scipy.stats as st\n",
    "from scipy.stats import norm,bernoulli\n",
    "from scipy.optimize import minimize, show_options\n",
    "from sklearn import mixture\n",
    "import matplotlib.pyplot as plt\n",
    "import csv\n",
    "import math\n",
    "%matplotlib inline"
   ]
  },
  {
   "cell_type": "code",
   "execution_count": null,
   "metadata": {
    "collapsed": true
   },
   "outputs": [],
   "source": [
    "def pdf_model(x, theta):\n",
    "    mu1, sig1, mu2, sig2, pi_1 = theta\n",
    "    return pi_1*norm.pdf(x, mu1, sig1) + (1-pi_1)*norm.pdf(x, mu2, sig2)"
   ]
  },
  {
   "cell_type": "code",
   "execution_count": null,
   "metadata": {
    "collapsed": true
   },
   "outputs": [],
   "source": [
    "\n",
    "x = np.array([2.3,3.2,3.1,1.6,1.9,11.5,10.2,12.3,8.6,10.9])\n",
    "x = x.reshape((x.shape[0],1))\n",
    "s = x\n",
    "max_iter = 3\n",
    "\n",
    "# Initial guess of parameters and initializations\n",
    "theta0 = np.array([4,1,6,2,0.5])\n",
    "mu1, sig1, mu2, sig2, pi_1 = theta0\n",
    "mu = np.array([mu1, mu2])\n",
    "sig = np.array([sig1, sig2])\n",
    "pi_ = np.array([pi_1, 1-pi_1])\n",
    "\n",
    "gamma = np.zeros((2, s.size))\n",
    "N_ = np.zeros(2)\n",
    "theta_new = theta0\n",
    "\n",
    "# EM loop\n",
    "counter = 0\n",
    "converged = False\n",
    "while not converged:\n",
    "    # Compute the responsibility func. and new parameters\n",
    "    iteration = counter + 1\n",
    "    print(\"iteration:\",iteration)\n",
    "    for k in [0,1]:\n",
    "        # E Step\n",
    "        gamma[k,:] = pi_[k]*norm.pdf(s, mu[k], sig[k])/pdf_model(s, theta_new)\n",
    "        print(\"gamma:\" , gamma)\n",
    "        # M Step\n",
    "        N_[k] = 1.*gamma[k].sum()\n",
    "        mu[k] = sum(gamma[k]*s)/N_[k]\n",
    "        sig[k] = np.sqrt( sum(gamma[k]*(s-mu[k])**2)/N_[k] )\n",
    "        pi_[k] = N_[k]/s.size\n",
    "    theta_new = [mu[0], sig[0], mu[1], sig[1], pi_[0]]\n",
    "    print(\"new theta:\",theta)\n",
    "    assert abs(N_.sum() - N)/float(N) < 1e-6 \n",
    "    assert abs(pi_.sum() - 1) < 1e-6\n",
    "    \n",
    "    # Convergence check\n",
    "    counter += 1\n",
    "    converged = counter >= max_iter"
   ]
  }
 ],
 "metadata": {
  "kernelspec": {
   "display_name": "Python 3",
   "language": "python",
   "name": "python3"
  },
  "language_info": {
   "codemirror_mode": {
    "name": "ipython",
    "version": 3
   },
   "file_extension": ".py",
   "mimetype": "text/x-python",
   "name": "python",
   "nbconvert_exporter": "python",
   "pygments_lexer": "ipython3",
   "version": "3.5.1"
  }
 },
 "nbformat": 4,
 "nbformat_minor": 0
}
