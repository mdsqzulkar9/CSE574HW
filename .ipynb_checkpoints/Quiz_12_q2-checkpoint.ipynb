{
 "cells": [
  {
   "cell_type": "code",
   "execution_count": 1,
   "metadata": {
    "collapsed": true
   },
   "outputs": [],
   "source": [
    "import numpy as np\n",
    "import scipy.stats as st\n",
    "from scipy.stats import norm,bernoulli\n",
    "from scipy.optimize import minimize, show_options\n",
    "from sklearn import mixture\n",
    "import matplotlib.pyplot as plt\n",
    "import csv\n",
    "import math\n",
    "%matplotlib inline"
   ]
  },
  {
   "cell_type": "code",
   "execution_count": 2,
   "metadata": {
    "collapsed": false
   },
   "outputs": [
    {
     "name": "stdout",
     "output_type": "stream",
     "text": [
      "[  2.3   3.2   3.1   1.6   1.9  11.5  10.2  12.3   8.6  10.9]\n",
      "(10,)\n"
     ]
    }
   ],
   "source": [
    "x = np.array([2.3,3.2,3.1,1.6,1.9,11.5,10.2,12.3,8.6,10.9])\n",
    "print(x)\n",
    "print(x.shape)"
   ]
  },
  {
   "cell_type": "code",
   "execution_count": 3,
   "metadata": {
    "collapsed": false
   },
   "outputs": [
    {
     "name": "stdout",
     "output_type": "stream",
     "text": [
      "(10, 1)\n"
     ]
    }
   ],
   "source": [
    "x = x.reshape((x.shape[0],1))\n",
    "print(x.shape)"
   ]
  },
  {
   "cell_type": "code",
   "execution_count": 4,
   "metadata": {
    "collapsed": true
   },
   "outputs": [],
   "source": [
    "k = 2\n",
    "pi_1 = 0.5\n",
    "pi_2 = 0.5\n",
    "mu_1 = 4\n",
    "mu_2 = 6\n",
    "sigma_1 = 1\n",
    "sigma_2 = 2"
   ]
  },
  {
   "cell_type": "code",
   "execution_count": 26,
   "metadata": {
    "collapsed": false
   },
   "outputs": [
    {
     "name": "stdout",
     "output_type": "stream",
     "text": [
      "[[  4.70245387e-02   1.80162186e-02]\n",
      " [  1.44845776e-01   3.74318664e-02]\n",
      " [  1.33042625e-01   3.48576416e-02]\n",
      " [  1.11972651e-02   8.86864821e-03]\n",
      " [  2.19917980e-02   1.21980046e-02]\n",
      " [  1.21716027e-13   2.27339063e-03]\n",
      " [  8.96891954e-10   1.09958990e-02]\n",
      " [  2.19081972e-16   6.98564604e-04]\n",
      " [  5.07042603e-06   4.28421480e-02]\n",
      " [  9.15166109e-12   4.95933860e-03]]\n",
      "z: [0 0 0 0 0 1 1 1 1 1]\n"
     ]
    }
   ],
   "source": [
    "\n",
    "z_temp1 = pi_1*norm.pdf(x, mu_1, sigma_1)\n",
    "z_temp2 = pi_2*norm.pdf(x, mu_2, sigma_2)\n",
    "z_temp = np.concatenate((z_temp1, z_temp2), axis=1)\n",
    "print(z_temp)\n",
    "z = np.argmax(z_temp, axis = 1)\n",
    "print(\"z:\",z)"
   ]
  },
  {
   "cell_type": "code",
   "execution_count": 29,
   "metadata": {
    "collapsed": false
   },
   "outputs": [
    {
     "name": "stdout",
     "output_type": "stream",
     "text": [
      "mu_1: 2.42\n",
      "mu_2: 10.7\n",
      "sigma: 0.636867333124\n",
      "sigma: 1.256980509\n"
     ]
    }
   ],
   "source": [
    "# 2nd iteration:\n",
    "pi_1 = 5/10\n",
    "pi_2 = 1 - pi_1\n",
    "x_1 = np.array([2.3,3.2,3.1,1.6,1.9])\n",
    "x_2 = np.array([11.5,10.2,12.3,8.6,10.9])\n",
    "mu_1 = np.average(x_1) \n",
    "mu_2 = np.average(x_2)\n",
    "print(\"mu_1:\",mu_1)\n",
    "print(\"mu_2:\",mu_2)\n",
    "sigma_1 = np.std(x_1)\n",
    "sigma_2 = np.std(x_2)\n",
    "print(\"sigma:\",sigma_1)\n",
    "print(\"sigma:\",sigma_2)"
   ]
  },
  {
   "cell_type": "code",
   "execution_count": 40,
   "metadata": {
    "collapsed": false
   },
   "outputs": [
    {
     "name": "stdout",
     "output_type": "stream",
     "text": [
      "z_temp1 (10, 1)\n",
      "z_temp2 (10, 1)\n",
      "[[  3.07695913e-01   3.18522829e-11]\n",
      " [  1.47948387e-01   2.95008737e-09]\n",
      " [  1.77122885e-01   1.82939752e-09]\n",
      " [  1.36724509e-01   6.60027866e-13]\n",
      " [  2.24422435e-01   3.61067186e-12]\n",
      " [  2.27124673e-45   1.29596464e-01]\n",
      " [  1.23187643e-33   1.46619855e-01]\n",
      " [  1.72079225e-53   7.05859107e-02]\n",
      " [  1.11855112e-21   3.93064065e-02]\n",
      " [  9.93008580e-40   1.56694635e-01]]\n",
      "z: [0 0 0 0 0 1 1 1 1 1]\n"
     ]
    }
   ],
   "source": [
    "z_temp1 = pi_1*norm.pdf(x, mu_1, sigma_1)\n",
    "z_temp1 = z_temp1.reshape((z_temp1.shape[0],1))\n",
    "z_temp2 = pi_2*norm.pdf(x, mu_2, sigma_2)\n",
    "z_temp2 = z_temp2.reshape((z_temp2.shape[0],1))\n",
    "print(\"z_temp1\",z_temp1.shape)\n",
    "print(\"z_temp2\",z_temp2.shape)\n",
    "z_temp = np.concatenate((z_temp1, z_temp2), axis=1)\n",
    "print(z_temp)\n",
    "z = np.argmax(z_temp, axis = 1)\n",
    "print(\"z:\",z)"
   ]
  },
  {
   "cell_type": "code",
   "execution_count": 41,
   "metadata": {
    "collapsed": false
   },
   "outputs": [
    {
     "name": "stdout",
     "output_type": "stream",
     "text": [
      "mu_1: 2.42\n",
      "mu_2: 10.7\n",
      "sigma: 0.636867333124\n",
      "sigma: 1.256980509\n"
     ]
    }
   ],
   "source": [
    "# 3rd iteration : \n",
    "pi_1 = 5/10\n",
    "pi_2 = 1 - pi_1\n",
    "x_1 = np.array([2.3,3.2,3.1,1.6,1.9])\n",
    "x_2 = np.array([11.5,10.2,12.3,8.6,10.9])\n",
    "mu_1 = np.average(x_1) \n",
    "mu_2 = np.average(x_2)\n",
    "print(\"mu_1:\",mu_1)\n",
    "print(\"mu_2:\",mu_2)\n",
    "sigma_1 = np.std(x_1)\n",
    "sigma_2 = np.std(x_2)\n",
    "print(\"sigma:\",sigma_1)\n",
    "print(\"sigma:\",sigma_2)"
   ]
  },
  {
   "cell_type": "code",
   "execution_count": 42,
   "metadata": {
    "collapsed": false
   },
   "outputs": [
    {
     "name": "stdout",
     "output_type": "stream",
     "text": [
      "z_temp1 (10, 1)\n",
      "z_temp2 (10, 1)\n",
      "[[  3.07695913e-01   3.18522829e-11]\n",
      " [  1.47948387e-01   2.95008737e-09]\n",
      " [  1.77122885e-01   1.82939752e-09]\n",
      " [  1.36724509e-01   6.60027866e-13]\n",
      " [  2.24422435e-01   3.61067186e-12]\n",
      " [  2.27124673e-45   1.29596464e-01]\n",
      " [  1.23187643e-33   1.46619855e-01]\n",
      " [  1.72079225e-53   7.05859107e-02]\n",
      " [  1.11855112e-21   3.93064065e-02]\n",
      " [  9.93008580e-40   1.56694635e-01]]\n",
      "z: [0 0 0 0 0 1 1 1 1 1]\n"
     ]
    }
   ],
   "source": [
    "z_temp1 = pi_1*norm.pdf(x, mu_1, sigma_1)\n",
    "z_temp1 = z_temp1.reshape((z_temp1.shape[0],1))\n",
    "z_temp2 = pi_2*norm.pdf(x, mu_2, sigma_2)\n",
    "z_temp2 = z_temp2.reshape((z_temp2.shape[0],1))\n",
    "print(\"z_temp1\",z_temp1.shape)\n",
    "print(\"z_temp2\",z_temp2.shape)\n",
    "z_temp = np.concatenate((z_temp1, z_temp2), axis=1)\n",
    "print(z_temp)\n",
    "z = np.argmax(z_temp, axis = 1)\n",
    "print(\"z:\",z)"
   ]
  },
  {
   "cell_type": "code",
   "execution_count": null,
   "metadata": {
    "collapsed": true
   },
   "outputs": [],
   "source": [
    "ans : (d)"
   ]
  }
 ],
 "metadata": {
  "kernelspec": {
   "display_name": "Python 3",
   "language": "python",
   "name": "python3"
  },
  "language_info": {
   "codemirror_mode": {
    "name": "ipython",
    "version": 3
   },
   "file_extension": ".py",
   "mimetype": "text/x-python",
   "name": "python",
   "nbconvert_exporter": "python",
   "pygments_lexer": "ipython3",
   "version": "3.5.1"
  }
 },
 "nbformat": 4,
 "nbformat_minor": 0
}
