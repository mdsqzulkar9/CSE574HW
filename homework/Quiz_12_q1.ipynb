{
 "cells": [
  {
   "cell_type": "code",
   "execution_count": 1,
   "metadata": {
    "collapsed": true
   },
   "outputs": [],
   "source": [
    "import numpy as np\n",
    "import scipy.stats as st\n",
    "from scipy.stats import norm,bernoulli\n",
    "from scipy.optimize import minimize, show_options\n",
    "from sklearn import mixture\n",
    "import matplotlib.pyplot as plt\n",
    "import csv\n",
    "import math\n",
    "%matplotlib inline"
   ]
  },
  {
   "cell_type": "code",
   "execution_count": null,
   "metadata": {
    "collapsed": false
   },
   "outputs": [],
   "source": [
    "x = np.array([2.3,3.2,3.1,1.6,1.9,11.5,10.2,12.3,8.6,10.9])\n",
    "print(x)\n",
    "print(x.shape)"
   ]
  },
  {
   "cell_type": "code",
   "execution_count": null,
   "metadata": {
    "collapsed": false
   },
   "outputs": [],
   "source": [
    "x = x.reshape((x.shape[0],1))\n",
    "print(x.shape)"
   ]
  },
  {
   "cell_type": "code",
   "execution_count": null,
   "metadata": {
    "collapsed": true
   },
   "outputs": [],
   "source": [
    "k = 2\n",
    "pi_1 = 0.5\n",
    "pi_2 = 0.5\n",
    "mu_1 = 4\n",
    "mu_2 = 6\n",
    "sigma_1 = 1\n",
    "sigma_2 = np.sqrt(2)"
   ]
  },
  {
   "cell_type": "code",
   "execution_count": null,
   "metadata": {
    "collapsed": false
   },
   "outputs": [],
   "source": [
    "\n",
    "z_temp1 = pi_1*norm.pdf(x, mu_1, sigma_1)\n",
    "z_temp2 = pi_2*norm.pdf(x, mu_2, sigma_2)\n",
    "z_temp = np.concatenate((z_temp1, z_temp2), axis=1)\n",
    "print(z_temp)\n",
    "z = np.argmax(z_temp, axis = 1)\n",
    "print(\"z:\",z)"
   ]
  },
  {
   "cell_type": "code",
   "execution_count": null,
   "metadata": {
    "collapsed": false
   },
   "outputs": [],
   "source": [
    "# 2nd iteration:\n",
    "pi_1 = 5/10\n",
    "pi_2 = 1 - pi_1\n",
    "x_1 = np.array([2.3,3.2,3.1,1.6,1.9])\n",
    "x_2 = np.array([11.5,10.2,12.3,8.6,10.9])\n",
    "mu_1 = np.average(x_1) \n",
    "mu_2 = np.average(x_2)\n",
    "print(\"mu_1:\",mu_1)\n",
    "print(\"mu_2:\",mu_2)\n",
    "sigma_1 = np.std(x_1)\n",
    "sigma_2 = np.std(x_2)\n",
    "print(\"sigma:\",sigma_1)\n",
    "print(\"sigma:\",sigma_2)"
   ]
  },
  {
   "cell_type": "code",
   "execution_count": null,
   "metadata": {
    "collapsed": false
   },
   "outputs": [],
   "source": [
    "z_temp1 = pi_1*norm.pdf(x, mu_1, sigma_1)\n",
    "z_temp1 = z_temp1.reshape((z_temp1.shape[0],1))\n",
    "z_temp2 = pi_2*norm.pdf(x, mu_2, sigma_2)\n",
    "z_temp2 = z_temp2.reshape((z_temp2.shape[0],1))\n",
    "print(\"z_temp1\",z_temp1.shape)\n",
    "print(\"z_temp2\",z_temp2.shape)\n",
    "z_temp = np.concatenate((z_temp1, z_temp2), axis=1)\n",
    "print(z_temp)\n",
    "z = np.argmax(z_temp, axis = 1)\n",
    "print(\"z:\",z)"
   ]
  },
  {
   "cell_type": "code",
   "execution_count": null,
   "metadata": {
    "collapsed": false
   },
   "outputs": [],
   "source": [
    "# 3rd iteration : \n",
    "pi_1 = 5/10\n",
    "pi_2 = 1 - pi_1\n",
    "x_1 = np.array([2.3,3.2,3.1,1.6,1.9])\n",
    "x_2 = np.array([11.5,10.2,12.3,8.6,10.9])\n",
    "mu_1 = np.average(x_1) \n",
    "mu_2 = np.average(x_2)\n",
    "print(\"mu_1:\",mu_1)\n",
    "print(\"mu_2:\",mu_2)\n",
    "sigma_1 = np.std(x_1)\n",
    "sigma_2 = np.std(x_2)\n",
    "print(\"sigma:\",sigma_1)\n",
    "print(\"sigma:\",sigma_2)"
   ]
  },
  {
   "cell_type": "code",
   "execution_count": null,
   "metadata": {
    "collapsed": false
   },
   "outputs": [],
   "source": [
    "z_temp1 = pi_1*norm.pdf(x, mu_1, sigma_1)\n",
    "z_temp1 = z_temp1.reshape((z_temp1.shape[0],1))\n",
    "z_temp2 = pi_2*norm.pdf(x, mu_2, sigma_2)\n",
    "z_temp2 = z_temp2.reshape((z_temp2.shape[0],1))\n",
    "print(\"z_temp1\",z_temp1.shape)\n",
    "print(\"z_temp2\",z_temp2.shape)\n",
    "z_temp = np.concatenate((z_temp1, z_temp2), axis=1)\n",
    "print(z_temp)\n",
    "z = np.argmax(z_temp, axis = 1)\n",
    "print(\"z:\",z)"
   ]
  },
  {
   "cell_type": "code",
   "execution_count": null,
   "metadata": {
    "collapsed": true
   },
   "outputs": [],
   "source": [
    "ans : (d)"
   ]
  }
 ],
 "metadata": {
  "kernelspec": {
   "display_name": "Python 3",
   "language": "python",
   "name": "python3"
  },
  "language_info": {
   "codemirror_mode": {
    "name": "ipython",
    "version": 3
   },
   "file_extension": ".py",
   "mimetype": "text/x-python",
   "name": "python",
   "nbconvert_exporter": "python",
   "pygments_lexer": "ipython3",
   "version": "3.5.1"
  }
 },
 "nbformat": 4,
 "nbformat_minor": 0
}
