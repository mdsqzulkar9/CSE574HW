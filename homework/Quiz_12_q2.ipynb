{
 "cells": [
  {
   "cell_type": "code",
   "execution_count": 1,
   "metadata": {
    "collapsed": true
   },
   "outputs": [],
   "source": [
    "import numpy as np\n",
    "import scipy.stats as st\n",
    "from scipy.stats import norm,bernoulli\n",
    "from scipy.optimize import minimize, show_options\n",
    "from sklearn import mixture\n",
    "import matplotlib.pyplot as plt\n",
    "import csv\n",
    "import math\n",
    "%matplotlib inline"
   ]
  },
  {
   "cell_type": "code",
   "execution_count": 2,
   "metadata": {
    "collapsed": false
   },
   "outputs": [
    {
     "name": "stdout",
     "output_type": "stream",
     "text": [
      "[  2.3   3.2   3.1   1.6   1.9  11.5  10.2  12.3   8.6  10.9]\n",
      "(10,)\n"
     ]
    }
   ],
   "source": [
    "x = np.array([2.3,3.2,3.1,1.6,1.9,11.5,10.2,12.3,8.6,10.9])\n",
    "print(x)\n",
    "print(x.shape)"
   ]
  },
  {
   "cell_type": "code",
   "execution_count": 3,
   "metadata": {
    "collapsed": false
   },
   "outputs": [
    {
     "name": "stdout",
     "output_type": "stream",
     "text": [
      "(10, 1)\n"
     ]
    }
   ],
   "source": [
    "x = x.reshape((x.shape[0],1))\n",
    "print(x.shape)"
   ]
  },
  {
   "cell_type": "code",
   "execution_count": 4,
   "metadata": {
    "collapsed": true
   },
   "outputs": [],
   "source": [
    "k = 2\n",
    "pi_1 = 0.5\n",
    "pi_2 = 0.5\n",
    "mu_1 = 0\n",
    "mu_2 = 0\n",
    "sigma_1 = 1\n",
    "sigma_2 = 1"
   ]
  },
  {
   "cell_type": "code",
   "execution_count": 5,
   "metadata": {
    "collapsed": false
   },
   "outputs": [
    {
     "name": "stdout",
     "output_type": "stream",
     "text": [
      "[[  5.00000000e-01   1.41635189e-02]\n",
      " [  5.00000000e-01   1.19204410e-03]\n",
      " [  5.00000000e-01   1.63340953e-03]\n",
      " [  5.00000000e-01   5.54604173e-02]\n",
      " [  5.00000000e-01   3.28079074e-02]\n",
      " [  5.00000000e-01   3.82082771e-30]\n",
      " [  5.00000000e-01   5.10365280e-24]\n",
      " [  5.00000000e-01   2.80332846e-34]\n",
      " [  5.00000000e-01   1.73648137e-17]\n",
      " [  5.00000000e-01   3.16676891e-27]]\n",
      "z: [0 0 0 0 0 0 0 0 0 0]\n"
     ]
    }
   ],
   "source": [
    "# Iteration : 1 \n",
    "# E - step: \n",
    "ri_1 = pi_1*norm.pdf(x, mu_1, sigma_1)\n",
    "ri_2 = pi_2*norm.pdf(x, mu_2, sigma_2)\n",
    "summ = ri_1 + ri_2\n",
    "ri_1 = ri_1 /summ\n",
    "ri_2 = ri_2 /summ\n",
    "\n",
    "# M - step :\n",
    "pi_1 = np.sum(ri_1) / "
   ]
  },
  {
   "cell_type": "code",
   "execution_count": null,
   "metadata": {
    "collapsed": false
   },
   "outputs": [],
   "source": [
    "# 2nd iteration:\n",
    "pi_1 = 5/10\n",
    "pi_2 = 1 - pi_1\n",
    "x_1 = np.array([2.3,3.2,3.1,1.6,1.9,11.5,10.2,12.3,8.6,10.9])\n",
    "x_2 = np.array([2.3,3.2,3.1,1.6,1.9,11.5,10.2,12.3,8.6,10.9])\n",
    "mu_1 = np.average(x_1) \n",
    "mu_2 = np.average(x_2)\n",
    "print(\"mu_1:\",mu_1)\n",
    "print(\"mu_2:\",mu_2)\n",
    "sigma_1 = np.std(x_1)\n",
    "sigma_2 = np.std(x_2)\n",
    "print(\"sigma:\",sigma_1)\n",
    "print(\"sigma:\",sigma_2)"
   ]
  },
  {
   "cell_type": "code",
   "execution_count": null,
   "metadata": {
    "collapsed": false
   },
   "outputs": [],
   "source": [
    "z_temp1 = pi_1*norm.pdf(x, mu_1, sigma_1)\n",
    "z_temp1 = z_temp1.reshape((z_temp1.shape[0],1))\n",
    "z_temp2 = pi_2*norm.pdf(x, mu_2, sigma_2)\n",
    "z_temp2 = z_temp2.reshape((z_temp2.shape[0],1))\n",
    "print(\"z_temp1\",z_temp1.shape)\n",
    "print(\"z_temp2\",z_temp2.shape)\n",
    "z_temp = np.concatenate((z_temp1, z_temp2), axis=1)\n",
    "print(z_temp)\n",
    "z = np.argmax(z_temp, axis = 1)\n",
    "print(\"z:\",z)"
   ]
  },
  {
   "cell_type": "code",
   "execution_count": null,
   "metadata": {
    "collapsed": false
   },
   "outputs": [],
   "source": [
    "# 3rd iteration : \n",
    "pi_1 = 5/10\n",
    "pi_2 = 1 - pi_1\n",
    "x_1 = np.array([2.3,3.2,3.1,1.6,1.9])\n",
    "x_2 = np.array([11.5,10.2,12.3,8.6,10.9])\n",
    "mu_1 = np.average(x_1) \n",
    "mu_2 = np.average(x_2)\n",
    "print(\"mu_1:\",mu_1)\n",
    "print(\"mu_2:\",mu_2)\n",
    "sigma_1 = np.std(x_1)\n",
    "sigma_2 = np.std(x_2)\n",
    "print(\"sigma:\",sigma_1)\n",
    "print(\"sigma:\",sigma_2)"
   ]
  },
  {
   "cell_type": "code",
   "execution_count": null,
   "metadata": {
    "collapsed": false
   },
   "outputs": [],
   "source": [
    "z_temp1 = pi_1*norm.pdf(x, mu_1, sigma_1)\n",
    "z_temp1 = z_temp1.reshape((z_temp1.shape[0],1))\n",
    "z_temp2 = pi_2*norm.pdf(x, mu_2, sigma_2)\n",
    "z_temp2 = z_temp2.reshape((z_temp2.shape[0],1))\n",
    "print(\"z_temp1\",z_temp1.shape)\n",
    "print(\"z_temp2\",z_temp2.shape)\n",
    "z_temp = np.concatenate((z_temp1, z_temp2), axis=1)\n",
    "print(z_temp)\n",
    "z = np.argmax(z_temp, axis = 1)\n",
    "print(\"z:\",z)"
   ]
  },
  {
   "cell_type": "code",
   "execution_count": null,
   "metadata": {
    "collapsed": true
   },
   "outputs": [],
   "source": [
    "ans : (d)"
   ]
  }
 ],
 "metadata": {
  "kernelspec": {
   "display_name": "Python 3",
   "language": "python",
   "name": "python3"
  },
  "language_info": {
   "codemirror_mode": {
    "name": "ipython",
    "version": 3
   },
   "file_extension": ".py",
   "mimetype": "text/x-python",
   "name": "python",
   "nbconvert_exporter": "python",
   "pygments_lexer": "ipython3",
   "version": "3.5.1"
  }
 },
 "nbformat": 4,
 "nbformat_minor": 0
}
